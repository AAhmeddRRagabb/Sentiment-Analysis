{
 "cells": [
  {
   "cell_type": "markdown",
   "id": "2b14970c-3ac0-466f-b001-b9f4a5e51f4f",
   "metadata": {},
   "source": [
    "# Sentiment Analysis\n",
    "This project focuses on practicing how to handle sequence data, starting from preprocessing steps like tokenization and numericalization, and moving on to modeling. The goal is to build a sentiment analysis system that classifies user reviews using [IMDB movies dataset](https://www.kaggle.com/datasets/vishakhdapat/imdb-movie-reviews) from Kaggle."
   ]
  },
  {
   "cell_type": "markdown",
   "id": "f969ce55-0748-48dc-8231-536fa8857a5f",
   "metadata": {},
   "source": [
    "## Notebook Sections\n",
    "- [Importing Data & Packages](#Importing-Data-&-Packages)\n",
    "- [Exploratory Data Analysis (EDA)](#Exploratory-Data-Analysis-(EDA))\n",
    "    * [Initial Data Exploration](#Initial-Data-Exploration)\n",
    "    * [Exploring some random sentences](#Exploring-some-random-sentences)\n",
    "    * [Exploring the size of the text](#Exploring-the-size-of-the-text)\n",
    "    * [Cleaning Text](#Cleaning-Text)\n",
    "- [Preprocessing Data](#Preprocessing-Data)\n",
    "    * [Tokenization](#Tokenization)\n",
    "    * [Padding Sentences](#Padding-Sentences)\n",
    "    * [Constructing a Vocab & Numericalization](#Constructing-a-Vocab-&-Numericalization)\n",
    "    * [Encode Target Data](#Encode-Target-Data)\n",
    "    * [Preparing X & Y](#Preparing-X-&-Y)\n",
    "- [Model Development Process](#Model-Development-Process)\n",
    "    * [Try to reduce overfitting](#Try-to-reduce-overfitting)\n",
    "    * [Comparing between the two Models](#Comparing-between-the-two-Models)"
   ]
  },
  {
   "cell_type": "markdown",
   "id": "33c6d8b0-e579-414e-9132-dba7e69b2062",
   "metadata": {},
   "source": [
    "***الله المستعان***"
   ]
  },
  {
   "cell_type": "markdown",
   "id": "c3a7c898-dd8c-46af-bfcc-03b6692b2480",
   "metadata": {},
   "source": [
    "---\n",
    "---"
   ]
  },
  {
   "cell_type": "markdown",
   "id": "f00e5b7b-770c-44c5-98ca-68836cbc6c92",
   "metadata": {},
   "source": [
    "## Importing Data & Packages"
   ]
  },
  {
   "cell_type": "code",
   "execution_count": null,
   "id": "29d812b4-cde1-4e82-a522-69d612d0909a",
   "metadata": {},
   "outputs": [],
   "source": [
    "# Data Processing \n",
    "import numpy as np\n",
    "import pandas as pd\n",
    "import random \n",
    "from collections import Counter\n",
    "\n",
    "# Data Viz\n",
    "import matplotlib.pyplot as plt\n",
    "import seaborn as sns\n",
    "\n",
    "# Model Development\n",
    "import tensorflow as tf\n",
    "from sklearn.model_selection import train_test_split\n",
    "from sklearn.metrics import accuracy_score, precision_score, recall_score, f1_score\n",
    "from sklearn.metrics import confusion_matrix, ConfusionMatrixDisplay\n",
    "\n",
    "\n",
    "# Custom Modules\n",
    "from utils.clean_text import clean_text, get_unique_chars\n",
    "from utils.preprocess import tokenize_text, pad_sequence\n",
    "from utils.model_development import load_glove_vecs, pretrained_embedding_layer, sentences_to_indices\n",
    "from utils.model_development import batch_train_generator, batch_val_generator, build_model\n",
    "\n",
    "# Savings\n",
    "import pickle\n"
   ]
  },
  {
   "cell_type": "code",
   "execution_count": 2,
   "id": "9a16acd4-4074-44ec-a564-82710ea3bc04",
   "metadata": {},
   "outputs": [
    {
     "data": {
      "text/html": [
       "<div>\n",
       "<style scoped>\n",
       "    .dataframe tbody tr th:only-of-type {\n",
       "        vertical-align: middle;\n",
       "    }\n",
       "\n",
       "    .dataframe tbody tr th {\n",
       "        vertical-align: top;\n",
       "    }\n",
       "\n",
       "    .dataframe thead th {\n",
       "        text-align: right;\n",
       "    }\n",
       "</style>\n",
       "<table border=\"1\" class=\"dataframe\">\n",
       "  <thead>\n",
       "    <tr style=\"text-align: right;\">\n",
       "      <th></th>\n",
       "      <th>review</th>\n",
       "      <th>sentiment</th>\n",
       "    </tr>\n",
       "  </thead>\n",
       "  <tbody>\n",
       "    <tr>\n",
       "      <th>0</th>\n",
       "      <td>One of the other reviewers has mentioned that ...</td>\n",
       "      <td>positive</td>\n",
       "    </tr>\n",
       "    <tr>\n",
       "      <th>1</th>\n",
       "      <td>A wonderful little production. &lt;br /&gt;&lt;br /&gt;The...</td>\n",
       "      <td>positive</td>\n",
       "    </tr>\n",
       "    <tr>\n",
       "      <th>2</th>\n",
       "      <td>I thought this was a wonderful way to spend ti...</td>\n",
       "      <td>positive</td>\n",
       "    </tr>\n",
       "    <tr>\n",
       "      <th>3</th>\n",
       "      <td>Basically there's a family where a little boy ...</td>\n",
       "      <td>negative</td>\n",
       "    </tr>\n",
       "    <tr>\n",
       "      <th>4</th>\n",
       "      <td>Petter Mattei's \"Love in the Time of Money\" is...</td>\n",
       "      <td>positive</td>\n",
       "    </tr>\n",
       "  </tbody>\n",
       "</table>\n",
       "</div>"
      ],
      "text/plain": [
       "                                              review sentiment\n",
       "0  One of the other reviewers has mentioned that ...  positive\n",
       "1  A wonderful little production. <br /><br />The...  positive\n",
       "2  I thought this was a wonderful way to spend ti...  positive\n",
       "3  Basically there's a family where a little boy ...  negative\n",
       "4  Petter Mattei's \"Love in the Time of Money\" is...  positive"
      ]
     },
     "execution_count": 2,
     "metadata": {},
     "output_type": "execute_result"
    }
   ],
   "source": [
    "df0 = pd.read_csv(\"data/IMDB_Dataset.csv\")\n",
    "df0.head()"
   ]
  },
  {
   "cell_type": "markdown",
   "id": "1d9fa884-e869-44b3-9091-d276fd6dfd52",
   "metadata": {},
   "source": [
    "---\n",
    "---"
   ]
  },
  {
   "cell_type": "markdown",
   "id": "d2cf7690-e536-476e-950b-c5e1dd7bb5f5",
   "metadata": {},
   "source": [
    "## Exploratory Data Analysis (EDA)"
   ]
  },
  {
   "cell_type": "markdown",
   "id": "31ff67b1-38bd-4688-b242-838cc7a8b1d3",
   "metadata": {},
   "source": [
    "### Initial Data Exploration"
   ]
  },
  {
   "cell_type": "code",
   "execution_count": 3,
   "id": "0299291d-2307-46f8-9de2-3ec75f3d38ba",
   "metadata": {},
   "outputs": [
    {
     "data": {
      "text/plain": [
       "(50000, 2)"
      ]
     },
     "execution_count": 3,
     "metadata": {},
     "output_type": "execute_result"
    }
   ],
   "source": [
    "df0.shape"
   ]
  },
  {
   "cell_type": "code",
   "execution_count": 4,
   "id": "6ea9dc52-701f-4359-9483-0e75a8a3ff58",
   "metadata": {},
   "outputs": [
    {
     "data": {
      "text/plain": [
       "review       0\n",
       "sentiment    0\n",
       "dtype: int64"
      ]
     },
     "execution_count": 4,
     "metadata": {},
     "output_type": "execute_result"
    }
   ],
   "source": [
    "df0.isna().sum()"
   ]
  },
  {
   "cell_type": "code",
   "execution_count": 5,
   "id": "14eff380-5f43-4fa4-8f4f-2d62f6d91a2d",
   "metadata": {},
   "outputs": [
    {
     "data": {
      "text/plain": [
       "np.int64(418)"
      ]
     },
     "execution_count": 5,
     "metadata": {},
     "output_type": "execute_result"
    }
   ],
   "source": [
    "df0.duplicated(subset = [col for col in df0.columns]).sum()"
   ]
  },
  {
   "cell_type": "code",
   "execution_count": 6,
   "id": "f19e4516-5959-4956-9274-ab2c5e009ae8",
   "metadata": {},
   "outputs": [
    {
     "data": {
      "text/html": [
       "<div>\n",
       "<style scoped>\n",
       "    .dataframe tbody tr th:only-of-type {\n",
       "        vertical-align: middle;\n",
       "    }\n",
       "\n",
       "    .dataframe tbody tr th {\n",
       "        vertical-align: top;\n",
       "    }\n",
       "\n",
       "    .dataframe thead th {\n",
       "        text-align: right;\n",
       "    }\n",
       "</style>\n",
       "<table border=\"1\" class=\"dataframe\">\n",
       "  <thead>\n",
       "    <tr style=\"text-align: right;\">\n",
       "      <th></th>\n",
       "      <th>review</th>\n",
       "      <th>sentiment</th>\n",
       "    </tr>\n",
       "  </thead>\n",
       "  <tbody>\n",
       "    <tr>\n",
       "      <th>34058</th>\n",
       "      <td>\"Go Fish\" garnered Rose Troche rightly or wron...</td>\n",
       "      <td>negative</td>\n",
       "    </tr>\n",
       "    <tr>\n",
       "      <th>47467</th>\n",
       "      <td>\"Go Fish\" garnered Rose Troche rightly or wron...</td>\n",
       "      <td>negative</td>\n",
       "    </tr>\n",
       "    <tr>\n",
       "      <th>29956</th>\n",
       "      <td>\"Three\" is a seriously dumb shipwreck movie. M...</td>\n",
       "      <td>negative</td>\n",
       "    </tr>\n",
       "    <tr>\n",
       "      <th>31488</th>\n",
       "      <td>\"Three\" is a seriously dumb shipwreck movie. M...</td>\n",
       "      <td>negative</td>\n",
       "    </tr>\n",
       "    <tr>\n",
       "      <th>2976</th>\n",
       "      <td>\"Witchery\" might just be the most incoherent a...</td>\n",
       "      <td>negative</td>\n",
       "    </tr>\n",
       "    <tr>\n",
       "      <th>...</th>\n",
       "      <td>...</td>\n",
       "      <td>...</td>\n",
       "    </tr>\n",
       "    <tr>\n",
       "      <th>47876</th>\n",
       "      <td>this movie sucks. did anyone notice that the e...</td>\n",
       "      <td>negative</td>\n",
       "    </tr>\n",
       "    <tr>\n",
       "      <th>23056</th>\n",
       "      <td>well, the writing was very sloppy, the directi...</td>\n",
       "      <td>negative</td>\n",
       "    </tr>\n",
       "    <tr>\n",
       "      <th>44122</th>\n",
       "      <td>well, the writing was very sloppy, the directi...</td>\n",
       "      <td>negative</td>\n",
       "    </tr>\n",
       "    <tr>\n",
       "      <th>10163</th>\n",
       "      <td>when I first heard about this movie, I noticed...</td>\n",
       "      <td>positive</td>\n",
       "    </tr>\n",
       "    <tr>\n",
       "      <th>15305</th>\n",
       "      <td>when I first heard about this movie, I noticed...</td>\n",
       "      <td>positive</td>\n",
       "    </tr>\n",
       "  </tbody>\n",
       "</table>\n",
       "<p>824 rows × 2 columns</p>\n",
       "</div>"
      ],
      "text/plain": [
       "                                                  review sentiment\n",
       "34058  \"Go Fish\" garnered Rose Troche rightly or wron...  negative\n",
       "47467  \"Go Fish\" garnered Rose Troche rightly or wron...  negative\n",
       "29956  \"Three\" is a seriously dumb shipwreck movie. M...  negative\n",
       "31488  \"Three\" is a seriously dumb shipwreck movie. M...  negative\n",
       "2976   \"Witchery\" might just be the most incoherent a...  negative\n",
       "...                                                  ...       ...\n",
       "47876  this movie sucks. did anyone notice that the e...  negative\n",
       "23056  well, the writing was very sloppy, the directi...  negative\n",
       "44122  well, the writing was very sloppy, the directi...  negative\n",
       "10163  when I first heard about this movie, I noticed...  positive\n",
       "15305  when I first heard about this movie, I noticed...  positive\n",
       "\n",
       "[824 rows x 2 columns]"
      ]
     },
     "execution_count": 6,
     "metadata": {},
     "output_type": "execute_result"
    }
   ],
   "source": [
    "df0[df0.duplicated(keep = False)].sort_values(by = [col for col in df0.columns])"
   ]
  },
  {
   "cell_type": "code",
   "execution_count": 7,
   "id": "f11251bb-6e0f-4c0a-8069-8518c6d08bb9",
   "metadata": {},
   "outputs": [],
   "source": [
    "df1 = df0.drop_duplicates()"
   ]
  },
  {
   "cell_type": "code",
   "execution_count": 8,
   "id": "f06045c3-e2fb-49a2-afd5-639d69031237",
   "metadata": {},
   "outputs": [
    {
     "name": "stdout",
     "output_type": "stream",
     "text": [
      "<class 'pandas.core.frame.DataFrame'>\n",
      "Index: 49582 entries, 0 to 49999\n",
      "Data columns (total 2 columns):\n",
      " #   Column     Non-Null Count  Dtype \n",
      "---  ------     --------------  ----- \n",
      " 0   review     49582 non-null  object\n",
      " 1   sentiment  49582 non-null  object\n",
      "dtypes: object(2)\n",
      "memory usage: 1.1+ MB\n"
     ]
    }
   ],
   "source": [
    "df1.info()"
   ]
  },
  {
   "cell_type": "code",
   "execution_count": 9,
   "id": "0d64e107-945e-4100-bd5d-51b21623503a",
   "metadata": {},
   "outputs": [
    {
     "data": {
      "text/plain": [
       "sentiment\n",
       "positive    0.501876\n",
       "negative    0.498124\n",
       "Name: proportion, dtype: float64"
      ]
     },
     "execution_count": 9,
     "metadata": {},
     "output_type": "execute_result"
    }
   ],
   "source": [
    "df1.sentiment.value_counts(normalize = True)"
   ]
  },
  {
   "cell_type": "markdown",
   "id": "108172be-17fd-40f7-9a7d-4d75961545ff",
   "metadata": {},
   "source": [
    "### Exploring some random sentences"
   ]
  },
  {
   "cell_type": "code",
   "execution_count": 10,
   "id": "e9673768-abfd-4c01-8783-b3a0d325134e",
   "metadata": {},
   "outputs": [],
   "source": [
    "sentences = df1['review'].tolist()"
   ]
  },
  {
   "cell_type": "code",
   "execution_count": 11,
   "id": "a7971d53-0ccb-4bbf-be1d-c800d1288951",
   "metadata": {},
   "outputs": [],
   "source": [
    "random_sentences = []\n",
    "for _ in range(20):\n",
    "    idx = random.randint(0, 5000)\n",
    "    random_sentences.append(sentences[idx])"
   ]
  },
  {
   "cell_type": "code",
   "execution_count": 12,
   "id": "c06273d9-5712-4a5c-860f-a96ef2e86bd3",
   "metadata": {
    "scrolled": true
   },
   "outputs": [
    {
     "name": "stdout",
     "output_type": "stream",
     "text": [
      "Oh my God, I was so expecting something more entertaining than this when I downloaded this movie, seeing as 1903 was one of my fave years for movies ever, but it sucked! The \"plot\", although I'd hesitate to call it that, is about some dumb elephant. It slowly makes its way onto some platform and gets electrocuted to death. Lame. Even for a short film, the plot was too thin to keep my attention. Edison is, like, the worst director ever. Plus, the elephant has no screen presence whatsoever. And the ending? Wow, that wasn't predictable at all. *sarcasm*<br /><br />The picture quality is horrible too. You can barely tell what's going on most of the time. The only positive thing about this movie is that unlike most other un-scary horror flicks this didn't spawn eleven sequels. Other than that this is a complete waste of money and 1 minute of your life you'll never get back.\n",
      "----------------------------------------------------------------------------------------------------\n",
      "Ladies and Gentlemen, may we present the worst of all Disney remakes. Although the name of this movie is \"That Darn Cat\", it should have been \"That Darn Teen\" or \"FBI Agent\". The cat didn't get any real good scenes, Ricci's character was more annoying than funny, Doug E. Doug didn't get any good lines, even Dean Jones's cameo role couldn't save this movie! The only really good characters were the town's only two auto mechanics, but their scenes were only brief. In all, I'd say that if you are considering watching this movie, go get something more intelligent like a Barney video.\n",
      "----------------------------------------------------------------------------------------------------\n",
      "Well, there's no real plot to speak of, it's just an excuse to show some scenes of extreme violence and gratuitous sex (which can sometimes be fun, too, but it's not in this case). What else can I say about this...? The action, when happening, is inventive and there's a cool scene where two characters are falling from a skyscraper (one that has to be several miles high), but overall there's not much to recommend \"Kite\". Watch it if you want, but you're not missing much if you skip this one...\n",
      "----------------------------------------------------------------------------------------------------\n",
      "I like Steve Buscemi. I like his work very much, both as an actor and a director. You could say that I am -into- Steve Buscemi. A Steve Buscemi freak. I lurv Steve Buscemi.<br /><br />I remember when I first saw Buscemi's full length directorial debut, \"Trees Lounge.\" I enjoyed the movie, although it wasn't as good as it could have been. It was -almost- there. It -almost- scratched that itch, the itch of wanting to see \"small\" movies about \"small\" people in \"small\" bars that are in \"small\" towns. It was close enough to where I would say that it was a very good movie - one that with a few tweaks could have been great. But that's OK. I like the movie and I've watched it more than once.<br /><br />But this review is not about Trees Lounge. It's about \"Lonesome Jim.\" When I saw the description of the movie and then I saw who's movie it was, I was excited at the prospect of finally seeing the movie that I knew that Trees Lounge could have been. But what I actually experienced was not unlike that of leaving one of those smalltown bars with a belly full of cheap whiskey and an armful of cheap floozy, heading back to your apartment with a mushy brain full of exciting prospects that inevitably disintegrate into the reality of alcohol-induced impotence and headspinning regurgitation.<br /><br />In other words, this movie left me flat and unrequited and sorry that I wasted the time and the money that it took me to get to that state - the film equivalent of waking up next to that cheap floozy the next morning, or if you happen to be the floozy, waking up next to that stinking and farting and unshaven imbecile. The film had all of the substance of a stale white bread sandwich (with store brand white bread, no less) and the emotion of a cadaver. I am not sure what the point of this film was, and since it was supposed to have some sort of a point and was not an exercise in abstract surrealism that can get by without one then this lack of a point is a sin of omission. Sorta like those new cars that don't come with ashtrays anymore although there are millions of people who smoke and buy new cars (I'm not one of them, but hey, I can sympathize). Overall it was a boring film about boring people doing boring things and had none of the grit and believability that can carry and save such a film. I mean, Trees Lounge was about boring people doing boring things, but it was interesting. <br /><br />I blame a lot of this on Affleck. Why do people keep casting these Affleck turds? They suck the life out of anything that they are connected with. One Affleck was in one decent film (and wasn't even the reason why the film was decent) and all of the sudden every butthole named Affleck is stinking up as many films as they possibly can. And Liv Tyler is no better. Being the daughter of a rock star does not necessarily make an actress. She is as lifeless as Affleck. These people simply do not rise from the flat page of the script. People pay to see films and they deserve to see actors and actresses with a bit of charisma - these two duds together don't have the spark of the old guy who hands out shopping carts at Wal Mart. I always thought that Steve Buscemi was the type of guy who would rise above this type of pablum, but oh Steve you let us down. This film makes me want to stuff you into another wood chipper.\n",
      "----------------------------------------------------------------------------------------------------\n",
      "The Twins Effect - Chinese Action/Comedy - (Charlene Choi, Gillian Chung)<br /><br />This vampire action comedy is one of my favorites for the very fact that I was thoroughly entertained throughout the entire movie. First of all, the characters are memorable, contributing a myriad of classic scenes. Charlene and Gillian are naturally cute, charismatic, and humorous. This movie was my first exposure to them, and all I wanted to do was reach through my television screen and give them a REALLY BIG HUG. The remaining cast did well in their supporting roles, including Jackie Chan, Karen Mok, \"The Duke\", Josie Ho, Edison Chen, Anthony Wong, and the vampire bad guys (one of which looks eerily familiar to Will Ferrell). Even the abominably horrible Ekin Cheng was good in this one. Good characters are important, of course, because they avoid the feeling of boredom by keeping things interesting between action sequences.<br /><br />And speaking of action, this film has plenty of it. More importantly, there is an emphasis of quality in the fight choreography. One aspect that helped in this regard is the featured weapon of the protagonists  a sword with a retractable spear-ended rope. This weapon, in and of itself, opened up a variety of moves that would have been otherwise impossible. Josie Ho and Gillian Chung, in particular, perform some wicked aerial maneuvers using these devices. <br /><br />In addition, the swordplay is superb, and is highlighted by two great sword fights  one taking place during the opening train station sequence and the other occurring in the church finale. In fact, the blade-wielding maneuvers showcased in this film put some other highly overrated fan favorites to great shame, and I truly feel sorry for those who would cite the horribly choreographed garbage seen in Ashes of Time, Storm Riders, or A Man Called Hero with the well-planned, precisely executed sequences seen in The Twins Effect. It's not even close. <br /><br />I can't understand why this film gets so much criticism. I'm sure die-hard apologists for the Hong Kong \"Golden Age\" will hate this because it doesn't fit into their narrow-minded view of what Hong Kong action should be. We should learn from the downfall of John Woo - a one trick pony who never learned how to re-invent himself. We don't need another clone. We need something different. The Twins Effect is one good example.<br /><br />This film was so good that it actually set me up for being disappointed at other Chinese movies with the same actors and actresses. This especially applies to Ekin Cheng, whose other films almost always suck  and yes, this includes the obscenely overrated and exploitative wuxia crap mentioned in the previous paragraph. Even The Twins have never been able to match the value of this movie when both were lead actresses in a film, although they have managed to hit some good films when either one or the other takes the leading role (e.g., Beyond Our Ken, Good Times Bed Times, House of Fury) or when one or both are in supporting roles (e.g., Colour of the Truth, New Police Story, Just One Look). The Twins Effect 2 should have been a direct sequel, instead of a family fantasy. I am still yearning to see Charlene and Gillian team up and kick some butt in another movie, but the fact remains that The Twins Effect hits on all cylinders, optimizing their charisma while avoiding a descent into annoyance (as in Protégé de la Rose Noire).<br /><br />All in all, this film has everything one needs to be entertained. And may I remind the reader that it is precisely this  ENTERTAINMENT  that judges the greatness of a movie, more so than artsy dramatic elements or meaningless awards from established academies of critics who usually have no idea what they are talking about.<br /><br />In the end, the Twins Effect is a CLASSIC not to be missed.<br /><br />Rating = 5/5 stars <br /><br />P.S.  The Hollywood execs decided to slaughter this film when it was released in the U.S. by renaming it The Vampire Effect and cutting out 20 minutes of footage, which includes parts of the action scenes. However, the final fight of the U.S. version does have a better soundtrack than the original version. Therefore, I purchased both versions, which allows me to first watch the original until about the 1:20 mark, and then swap discs to watch the final fight on the U.S. version.\n",
      "----------------------------------------------------------------------------------------------------\n",
      "Although this was a low budget film and clearly last minute, it holds a certain charm that is difficult to pinpoint. I tend to believe it is the scriptwriter- Grant Morris (see Dead Dog), who, despite the warped plot line injected a fantastic slice of humour, sorely missing in many of today's box office hits. Definitely a must see for a Sunday afternoon laughfest. Speaking as a true single girl, and very sceptical this film did not inspire me particularly, but did ignite a small flame of hope for a lovelife. Not my lovelife, so much as my slightly crazy neighbour's lovelife who lets her hamster sleep in her bed with her. She may find someone.\n",
      "----------------------------------------------------------------------------------------------------\n",
      "How is it in this day and era, people are still dumb enough to think that other dumb stuff is smart? Maybe dumb people like watching stuff that makes them feel smart. Such as 'The War At Home'. 'Cuss it's even dumber than the dumb people who watch it. There are no jokes, only half-jokes and slight gags that barely even warrant a tiny internal smile. The acting is your typical, unsubtle, idiotic, standard sitcom flailing-limbs type acting. And why oh why did this crap replace arrested development? Well you gotta hand it to Fox. They know that they need to have stupid shows to attract all the stupid viewers. You see, the reason Arrested Development wasn't massively popular was because it was so smart. It was so smart that it made dumb people feel bad about being so dumb. And of course, if a dumb person encounters a smart person, the dumb person will hate the smart person. Most of the time anyway. Either that, or try and mooch off of the smart person. If you like this show, and are one of the dumb people, I truly cannot fathom what it must be like not to have open eyes and open minds. I cannot fathom what it must be like to be mindless, laughing drones, influenced by every little thing. Basically, people who laugh with a laugh track are parrots. Trained, obedient, mindless parrots. Maybe I shouldn't insult parrots by comparing them to you. You know who you are. (If I seem like a bastar* in this review, it's because I'm so annoyed at AD being canceled.)\n",
      "----------------------------------------------------------------------------------------------------\n",
      "This mostly routine fact-based TV drama gets a boost from the fine performance by Cole. This is the story of a highly trained military man, unhappy with his wife and children, fakes his demise and runs off with the other woman. To support her in the manner in which she is accustomed he robs banks. Predictable, but not a bad watch.\n",
      "----------------------------------------------------------------------------------------------------\n",
      "Normally I love finding old (and some not-so-old) westerns I haven't seen, to be the entertainment for the evening. It's such a great way to sit back, relax and escape the politics and world problems for a few hours. But this was not to be the case with this version of The Magnificent Seven. The casting and storyline of this series closely follow the Hollywood formula for politically correct entertainment; good old get-your-mind-right, revisionist history, where the 'bad guys' must all be white, male, Confederate (in this case), and preferably Christian (if it can somehow be worked into the script). It's sad, really. The best movies out there, are now and have always been about simply telling a good story up on the big screen - not about forwarding someone's political ideology.\n",
      "----------------------------------------------------------------------------------------------------\n",
      "Joe Don's opening line says everything about this movie. It takes place on the island of Malta (the island of pathetic men) and involves Joe Don Baker tracking down an Italian mobster. Joe Don's character is named Geronimo (pronounced Heronimo) and all he does in this movie is shoot people and get arrested over and over agin. Everyone in the movie hates him, just like everyone hates Greydon Clark. I liked an earlier Greydon picture, \"Angel's Revenge\" because it was a shirne for thriteen year old boys. Avoid this movie at all costs!!\n",
      "----------------------------------------------------------------------------------------------------\n",
      "This film was the first British teen movie to actually address the reality of the violent rock and roll society, rather than being a lucid parody of 1950s teenage life. In an attempt to celebrate the work of Liverpool's Junior Liaison Officers the opening title points out that 92% of potential delinquents, who have been dealt with under this scheme, have not committed a second crime. However, this becomes merely a pretext to the following teen-drama until the film's epilogue where we are instructed that we shouldn't feel responsible or sorry for such delinquents however mixed-up they might seem.<br /><br />Stanley Baker plays a tough detective who reluctantly takes on the post of Juvenile Liaison Officer. This hard-boiled character is a role typical of Baker. Having been currently on the trail of a notorious arsonist known as the firefly and does not relish the distraction of the transfer. However, as in all good police dramas he is led back full circle by a remarkable turn of events, back to his original investigation.<br /><br />His first case leads him to the home of two young children, Mary and Patrick Murphy (played by real-life brother and sister duo), who have committed a petty theft. Here he meets Cathie (satisfyingly portrayed by Anne Heywood) their older sister whom he eventually becomes romantically involved with. It quickly becomes obvious that the squalid environment of such inner-city estates is a breeding ground for juvenile delinquency.<br /><br />The elder brother of the Murphy family, Johnny, is the leader of a gang of rock and roll hoodlums. McCallum does an eye-catching turn as the Americanized mixed-up kid, who owes more to the likes of Marlon Brando, than any previous British star. One is reminded of Brando's character Johnny from 'The Wild One' who led a leather-clad gang of rebellious bikers in much the same way as this film's 'Johnny' leads his gang.<br /><br />Thankfully the preachiness of earlier Dearden crime dramas such as 'The Blue Lamp' is not so apparent. Instead we are presented with several well drawn-out characters on both sides of the law as the drama of the delinquents and the romantic interest between Heywood and Baker takes the forefront.<br /><br />The plot, whilst at times predictable, does deliver some memorable scenes. The disruptive influence that rock and roll music was thought to have had is played out in a scene where Johnny abandons himself to the music, leading a menacing advance on the police sergeant. The most grippingly memorable piece of film however is the climatic classroom scene where a bunch of terrified school children, including Mary and Patrick, are held hostage at gunpoint by Johnny. Obviously in the light of the real-life Dumblaine Massacre this scene seems all the horrifying. Understandably because of this the film is seldom aired or available to modern audiences.\n",
      "----------------------------------------------------------------------------------------------------\n",
      "The movie is really about choices. In the oppressed state of affairs as seen in Fire, where good women had to be obedient and do what was correct in the eyes of tradition, there seemed few options for Radha and Sita. However, granted that it was not their only option. What is life without desire, Radha questions Ashok. Yes, it's true that life provides us with a number of options but how many we can take depends on a number of external factors. When your world is confined to a small Indian household, being a dutiful daughter-in-law to a silent but observant still powerful matriarch, a dutiful wife of 13 years to a man who has taken a vow of celibacy due to your not being able to have a child, a man who only wants you lying next to him to prove his strength in eliminating his desires. I felt the ladies had little choice but to find solace in each other's company. I guess the fact that so many women applauded Ms Mehta's work, was because it provided them with an option to think for themselves. An option to do what was perhaps unacceptable. The lesbian scenes I felt was merely to put that point across. Every scene in the movie from the first at the Taj Mahal to the last at the Mosque, is etched in my mind. How frustrating to be a prisoner of your feelings and desires. To feel that you had to forgo the human touch to be a dutiful wife just because it is expected of you. To have to suppress any desire you might have and to crave for the human touch. What then is the meaning of our existence one wonders. In the scene where Sita is crying alone in the room and Radha comes in to comfort her, their lips accidentally brush against each others and it awakens a feeling in them. Something they have both been deprived of.<br /><br />Bravo to Ms Mehta in translating her vision so clearly. I especially like the flashbacks to the young Radha trying to 'see' for the ocean. It is a metaphor for freedom. Freedom to choose, freedom to transport ourselves to places we would normally be unable to reach. In those scenes, it is gently told to us that her sense of duty has also been passed down from her mother who I assume lives within the rich Indian traditions of duty in marriage. The movie is beautifully filmed and enhanced by the musical score by A.R. Rahman. Since the film, I have become ardent fans of the two lead actresses and the director. I look forward to more of Ms Deepa's future productions.\n",
      "----------------------------------------------------------------------------------------------------\n",
      "In addition to the fact that this is just an abysmally made film (imagine giving a camcorder to the average high school drama club) the people who think that there is anything \"real\" about this legend need to grow up. This is the 21st century. Guess what: ghosts don't exist. Most people learn that from their mother when they're about 5 years old. You guys seriously need to grow up.<br /><br />The fact that a fraud was perpetrated nearly 2 centuries ago does not make it any less a fraud. The fact that a large number of inbred hillbillies from Tennessee believe it doesn't do it either. Go to college. Or at least finish high school.\n",
      "----------------------------------------------------------------------------------------------------\n",
      "I appreciate the need to hire unknowns for these kind of 'horror' movies, but they should at least hire some proper actors. The sergeant especially is guilty of using his monotone to bulldozer every single line he has. But let's face it, the lines aren't really important. There isn't really a recognisable plot, so most of the writing involves the words f**k, s**t, m*****f****r and other assorted bad language in place of proper dialogue.<br /><br />The 'story' as it is, is mostly made up of seemingly random gore and death, with a couple of cringe-worthy 'surprises', which happen around 10 minutes after you see exactly what's going to happen. Not only this, but there are several glaring plot holes and continuity errors (Why are they going in there? Didn't he have a weapon? Wasn't he dead?), so it makes the whole film seem as if it has been cut down by the several hours it would take to fix them.<br /><br />Another film which simply relies on blood and gore instead of any real cinematic experience.\n",
      "----------------------------------------------------------------------------------------------------\n",
      "I gave this a 1. There are so many plot twists that you can never be sure to root for. Total mayhem. Everyone gets killed or nearly so. I am tired of cross hairs and changing views. I cannot give the plot away. Convoluted and insane. If I had paid to see this I would demand my money back. I wish reviews were more honest.\n",
      "----------------------------------------------------------------------------------------------------\n",
      "I`ve seen this movie twice, both times on Cinemax. The first time in it`s unrated version which is soft-core porn at it`s best and the second time in a trimmed down (cut all the sex and most of the nudity out) version which was entertaining in a typical beach movie sort of way. The unrated version has a tremendous sex scene with Nikki Fritz, a dude and a bottle of oil which is out of this world (no pun intended). Unfortunately, in the trimmed version that scene is almost completely chopped out, as are all the other sex scenes. Rated or unrated it is still fun to watch all the siblings of bigger stars (Stallone, Sheen, Travolta, etc;) trying to act. We also get appearances by B-queen Linnea Quigley and Burt Ward (Robin from the old Batman series).\n",
      "----------------------------------------------------------------------------------------------------\n",
      "If I had known this movie was filmed in the exasperating and quease-inducing Dogme 95 style, I would never have rented it. Nevertheless, I took a dramamine for the seasickness and gave it a shot. I lasted a very, very, very long forty minutes before giving up. It's just boring, pretentious twaddle.<br /><br />The last French movie I saw was \"Romance\" and it too was pretty dismal, but at least the camera was steady and not breathing down the necks of the characters all the time. I am baffled at the continuing popularity of Dogme 95 overseas -- it'll catch on in America about the same time as the next big outbreak of leprosy. (It's called Dogme 95 because that's the average number of times the actors are poked in the eye by the camera.)<br /><br />\n",
      "----------------------------------------------------------------------------------------------------\n",
      "Beware, My Lovely is an experimental studio film from the early fifties and was directed by a man, Harry Horner, better known for his set designs. Robert Ryan plays a handyman who is hired by Ida Lupino to do some housework for her. The problem is that he is a psychopathic murderer and doesn't know it. Miss Lupino is an empathetic soul and tries to win Ryan over, to little avail. He is not the sort of man compassion could help or cure. Thus we have an interesting situation of two people who basically mean well, but one of them can't do well because there is something wrong with him. He suffers periodic blackouts during which he commits acts of violence, which he later forgets. <br /><br />Essentially the effect Ryan has on Lupino is that of the hunter and his prey, or in another sense a sadist. The audience finds out early on that Ryan is a mad killer, but it takes Lupino much longer. Thus we must live with this knowledge as we watch poor Miss Lupino try everything in her power to 'win' Ryan over in order to make things work, get the job done, get on with life. But getting on with things isn't in Ryan's makeup, as he is incapable of any but the most rudimentary forms of normality, and as soon as there is an opening his paranoia asserts itself. <br /><br />As a study in mental illness the movie isn't too impressive. What it's superlative at is showing the effect of major mental illness, with dangerous psychopathology in the mix, and its effect on a normal person. In this regard the film is realistic and compassionate, though relentlessly logical in that we know Lupino can't 'fix' Ryan, yet we want her to. The result is that, if one is willing, one can get extremely involved in this film emotionally if one can put aside, so to speak, its melodramatic structure.<br /><br />Horner shows us, gradually, the layout the Lupino house , a forbidding gothic monstrosity that never feels like a home. We become familiar with staircase, kitchen and pantry; and we come to know which windows Miss Lupino can use for an escape and which ones she can't.\n",
      "----------------------------------------------------------------------------------------------------\n",
      "Star Trek: Hidden Frontier is a long-running internet only fan film, done completely for the love of the series, and a must watch for fans of Trek. The production quality is extremely high for a fan film, although sometimes you can tell that they're green-screenin' it. This doesn't take away from the overall experience however. The CGI ships are fantastic, as well as the space battle scenes... On the negative side, I could tell in the earlier episodes (and even occasionally in the newer ones) that some of the actors/actresses are not quite comfortable in their roles, but once again, this doesn't take away from the overall experience of new interpretations of Star Trek. The cast and crew have truly come up with something special here, and, as a whole,I would highly recommend this series to fans of The Next Generation and Deep Space 9.\n",
      "----------------------------------------------------------------------------------------------------\n",
      "If 1977's \"Exorcist II: The Heretic\" did him no favors, it's hard to imagine what thespian extraordinaire Richard Burton saw in this drab exercise in non-thrills. You've seen it all before: Burton plays a writer who discovered at an early age he possesses the power to move inanimate objects through force of his mind (and you thought \"Carrie\" had no impact on Hollywood!). Though adapted from a novel by Peter Van Greenaway, \"Medusa\" plays like recycled goods, though the special effects in the cathedral finale are solid (if typical). Lee Remick is somewhat present as a doctor, but otherwise the supporting cast is extremely weak. Burton is hammy but weary...not even telekinesis could save him at this point. *1/2 from ****\n",
      "----------------------------------------------------------------------------------------------------\n"
     ]
    }
   ],
   "source": [
    "for sentence in random_sentences:\n",
    "    print(sentence)\n",
    "    print(100 * '-')"
   ]
  },
  {
   "cell_type": "markdown",
   "id": "463a78aa-2e9a-4c3a-9e79-b558d162ebbf",
   "metadata": {},
   "source": [
    "### Exploring the size of the text"
   ]
  },
  {
   "cell_type": "markdown",
   "id": "f8bdd879-12e3-4a56-8e01-86694aab14b4",
   "metadata": {},
   "source": [
    "#### Min & Max Chars"
   ]
  },
  {
   "cell_type": "code",
   "execution_count": 13,
   "id": "bb70287e-0b8b-423f-8ac7-6cdfe6a6f871",
   "metadata": {},
   "outputs": [
    {
     "data": {
      "text/plain": [
       "(32, 13704)"
      ]
     },
     "execution_count": 13,
     "metadata": {},
     "output_type": "execute_result"
    }
   ],
   "source": [
    "min(df1['review'].str.len()), max(df1['review'].str.len())"
   ]
  },
  {
   "cell_type": "code",
   "execution_count": 14,
   "id": "e5495064-09d9-425b-bad4-585100c4a3c7",
   "metadata": {},
   "outputs": [],
   "source": [
    "min_chars = 32\n",
    "max_chars = 13704"
   ]
  },
  {
   "cell_type": "code",
   "execution_count": 15,
   "id": "e76f89f4-f5df-447a-92b4-9ff783e3fbab",
   "metadata": {},
   "outputs": [
    {
     "data": {
      "text/html": [
       "<div>\n",
       "<style scoped>\n",
       "    .dataframe tbody tr th:only-of-type {\n",
       "        vertical-align: middle;\n",
       "    }\n",
       "\n",
       "    .dataframe tbody tr th {\n",
       "        vertical-align: top;\n",
       "    }\n",
       "\n",
       "    .dataframe thead th {\n",
       "        text-align: right;\n",
       "    }\n",
       "</style>\n",
       "<table border=\"1\" class=\"dataframe\">\n",
       "  <thead>\n",
       "    <tr style=\"text-align: right;\">\n",
       "      <th></th>\n",
       "      <th>review</th>\n",
       "      <th>sentiment</th>\n",
       "    </tr>\n",
       "  </thead>\n",
       "  <tbody>\n",
       "    <tr>\n",
       "      <th>27521</th>\n",
       "      <td>Read the book, forget the movie!</td>\n",
       "      <td>negative</td>\n",
       "    </tr>\n",
       "  </tbody>\n",
       "</table>\n",
       "</div>"
      ],
      "text/plain": [
       "                                 review sentiment\n",
       "27521  Read the book, forget the movie!  negative"
      ]
     },
     "execution_count": 15,
     "metadata": {},
     "output_type": "execute_result"
    }
   ],
   "source": [
    "df1.loc[df1['review'].str.len() == min_chars]"
   ]
  },
  {
   "cell_type": "code",
   "execution_count": 16,
   "id": "454d3068-bb1e-43c8-8995-727bf6821e65",
   "metadata": {},
   "outputs": [
    {
     "data": {
      "text/html": [
       "<div>\n",
       "<style scoped>\n",
       "    .dataframe tbody tr th:only-of-type {\n",
       "        vertical-align: middle;\n",
       "    }\n",
       "\n",
       "    .dataframe tbody tr th {\n",
       "        vertical-align: top;\n",
       "    }\n",
       "\n",
       "    .dataframe thead th {\n",
       "        text-align: right;\n",
       "    }\n",
       "</style>\n",
       "<table border=\"1\" class=\"dataframe\">\n",
       "  <thead>\n",
       "    <tr style=\"text-align: right;\">\n",
       "      <th></th>\n",
       "      <th>review</th>\n",
       "      <th>sentiment</th>\n",
       "    </tr>\n",
       "  </thead>\n",
       "  <tbody>\n",
       "    <tr>\n",
       "      <th>31481</th>\n",
       "      <td>Match 1: Tag Team Table Match Bubba Ray and Sp...</td>\n",
       "      <td>positive</td>\n",
       "    </tr>\n",
       "  </tbody>\n",
       "</table>\n",
       "</div>"
      ],
      "text/plain": [
       "                                                  review sentiment\n",
       "31481  Match 1: Tag Team Table Match Bubba Ray and Sp...  positive"
      ]
     },
     "execution_count": 16,
     "metadata": {},
     "output_type": "execute_result"
    }
   ],
   "source": [
    "df1.loc[df1['review'].str.len() == max_chars]"
   ]
  },
  {
   "cell_type": "code",
   "execution_count": 17,
   "id": "4c943d8b-b35a-46ed-ab80-6293cee484e0",
   "metadata": {
    "scrolled": true
   },
   "outputs": [
    {
     "name": "stdout",
     "output_type": "stream",
     "text": [
      "['Match 1: Tag Team Table Match Bubba Ray and Spike Dudley vs Eddie Guerrero and Chris Benoit Bubba Ray and Spike Dudley started things off with a Tag Team Table Match against Eddie Guerrero and Chris Benoit. According to the rules of the match, both opponents have to go through tables in order to get the win. Benoit and Guerrero heated up early on by taking turns hammering first Spike and then Bubba Ray. A German suplex by Benoit to Bubba took the wind out of the Dudley brother. Spike tried to help his brother, but the referee restrained him while Benoit and Guerrero ganged up on him in the corner. With Benoit stomping away on Bubba, Guerrero set up a table outside. Spike dashed into the ring and somersaulted over the top rope onto Guerrero on the outside! After recovering and taking care of Spike, Guerrero slipped a table into the ring and helped the Wolverine set it up. The tandem then set up for a double superplex from the middle rope which would have put Bubba through the table, but Spike knocked the table over right before his brother came crashing down! Guerrero and Benoit propped another table in the corner and tried to Irish Whip Spike through it, but Bubba dashed in and blocked his brother. Bubba caught fire and lifted both opponents into back body drops! Bubba slammed Guerrero and Spike stomped on the Wolverine from off the top rope. Bubba held Benoit at bay for Spike to soar into the Wassup! headbutt! Shortly after, Benoit latched Spike in the Crossface, but the match continued even after Spike tapped out. Bubba came to his brother\\'s rescue and managed to sprawl Benoit on a table. Bubba leapt from the middle rope, but Benoit moved and sent Bubba crashing through the wood! But because his opponents didn\\'t force him through the table, Bubba was allowed to stay in the match. The first man was eliminated shortly after, though, as Spike put Eddie through a table with a Dudley Dawg from the ring apron to the outside! Benoit put Spike through a table moments later to even the score. Within seconds, Bubba nailed a Bubba Bomb that put Benoit through a table and gave the Dudleys the win! Winner: Bubba Ray and Spike Dudley<br /><br />Match 2: Cruiserweight Championship Jamie Noble vs Billy Kidman Billy Kidman challenged Jamie Noble, who brought Nidia with him to the ring, for the Cruiserweight Championship. Noble and Kidman locked up and tumbled over the ring, but raced back inside and grappled some more. When Kidman thwarted all Noble\\'s moves, Noble fled outside the ring where Nidia gave him some encouragement. The fight spread outside the ring and Noble threw his girlfriend into the challenger. Kidman tossed Nidia aside but was taken down with a modified arm bar. Noble continued to attack Kidman\\'s injured arm back in the ring. Kidman\\'s injured harm hampered his offense, but he continued to battle hard. Noble tried to put Kidman away with a powerbomb but the challenger countered into a facebuster. Kidman went to finish things with a Shooting Star Press, but Noble broke up the attempt. Kidman went for the Shooting Star Press again, but this time Noble just rolled out of harm\\'s way. Noble flipped Kidman into a power bomb soon after and got the pin to retain his WWE Cruiserweight Championship! Winner: Jamie Noble<br /><br />Match 3: European Championship William Regal vs Jeff Hardy William Regal took on Jeff Hardy next in an attempt to win back the European Championship. Jeff catapulted Regal over the top rope then took him down with a hurracanrana off the ring apron. Back in the ring, Jeff hit the Whisper in the wind to knock Regal for a loop. Jeff went for the Swanton Bomb, but Regal got his knees up to hit Jeff with a devastating shot. Jeff managed to surprise Regal with a quick rollup though and got the pin to keep the European Championship! Regal started bawling at seeing Hardy celebrate on his way back up the ramp. Winner: Jeff Hardy<br /><br />Match 4: Chris Jericho vs John Cena Chris Jericho had promised to end John Cena\\'s career in their match at Vengeance, which came up next. Jericho tried to teach Cena a lesson as their match began by suplexing him to the mat. Jericho continued to knock Cena around the ring until his cockiness got the better of him. While on the top rope, Jericho began to showboat and allowed Cena to grab him for a superplex! Cena followed with a tilt-a-whirl slam but was taken down with a nasty dropkick to the gut. The rookie recovered and hit a belly to belly suplex but couldn\\'t put Y2J away. Jericho launched into the Lionsault but Cena dodged the move. Jericho nailed a bulldog and then connected on the Lionsault, but did not go for the cover. He goaded Cena to his feet so he could put on the Walls of Jericho. Cena had other ideas, reversing the move into a pin attempt and getting the 1-2-3! Jericho went berserk after the match. Winner: John Cena<br /><br />Match 5: Intercontinental Championship RVD vs Brock Lesnar via disqualification The Next Big Thing and Mr. Pay-Per-View tangled with the Intercontinental Championship on the line. Brock grabbed the title from the ref and draped it over his shoulder momentarily while glaring at RVD. Van Dam \\'s quickness gave Brock fits early on. The big man rolled out of the ring and kicked the steel steps out of frustration. Brock pulled himself together and began to take charge. With Paul Heyman beaming at ringside, Brock slammed RVD to the hard floor outside the ring. From there, Brock began to overpower RVD, throwing him with ease over the top rope. RVD landed painfully on his back, then had to suffer from having his spine cracked against the steel ring steps. The fight returned to the ring with Brock squeezing RVD around the ribs. RVD broke away and soon after leveled Brock with a kick to the temple. RVD followed with the Rolling Thunder but Brock managed to kick out after a two-count. The fight looked like it might be over soon as RVD went for a Five-Star Frog Splash. Brock, though, hoisted Van Dam onto his shoulder and went for the F-5, but RVD whirled Brock into a DDT and followed with the Frog Splash! He went for the pin, but Heyman pulled the ref from the ring! The ref immediately called for a disqualification and soon traded blows with Heyman! After, RVD leapt onto Brock from the top rope and then threatened to hit the Van Terminator! Heyman grabbed RVD\\'s leg and Brock picked up the champ and this time connected with the F-5 onto a steel chair! Winner: RVD<br /><br />Match 6: Booker T vs the Big Show Booker T faced the Big Show one-on-one next. Show withstood Booker T\\'s kicks and punches and slapped Booker into the corner. After being thrown from the ring, Booker picked up a chair at ringside, but Big Show punched it back into Booker\\'s face. Booker tried to get back into the game by choking Show with a camera cable at ringside. Booker smashed a TV monitor from the Spanish announcers\\' position into Show\\'s skull, then delivered a scissors kick that put both men through the table! Booker crawled back into the ring and Big Show staggered in moments later. Show grabbed Booker\\'s throat but was met by a low blow and a kick to the face. Booker climbed the top rope and nailed a somersaulting leg drop to get the pin! Winner: Booker T<br /><br />Announcement: Triple H entered the ring to a thunderous ovation as fans hoped to learn where The Game would end up competing. Before he could speak, Eric Bishoff stopped The Game to apologize for getting involved in his personal business. If Triple H signed with RAW, Bischoff promised his personal life would never come into play again. Bischoff said he\\'s spent the past two years networking in Hollywood. He said everyone was looking for the next breakout WWE Superstar, and they were all talking about Triple H. Bischoff guaranteed that if Triple H signed with RAW, he\\'d be getting top opportunities coming his way. Stephanie McMahon stepped out to issue her own pitch. She said that because of her personal history with Triple H, the two of them know each other very well. She said the two of them were once unstoppable and they can be again. Bischoff cut her off and begged her to stop. Stephanie cited that Triple H once told her how Bischoff said Triple H had no talent and no charisma. Bischoff said he was young at the time and didn\\'t know what he had, but he still has a lot more experience that Stephanie. The two continued to bicker back and forth, until Triple H stepped up with his microphone. The Game said it would be easy to say \"screw you\" to either one of them. Triple H went to shake Bischoff\\'s hand, but pulled it away. He said he would rather go with the devil he knows, rather than the one he doesn\\'t know. Before he could go any further, though, Shawn Michaels came out to shake things up. HBK said the last thing he wanted to do was cause any trouble. He didn\\'t want to get involved, but he remembered pledging to bring Triple H to the nWo. HBK said there\\'s nobody in the world that Triple H is better friends with. HBK told his friend to imagine the two back together again, making Bischoff\\'s life a living hell. Triple H said that was a tempting offer. He then turned and hugged HBK, making official his switch to RAW! Triple H and HBK left, and Bischoff gloated over his victory. Bischoff said the difference between the two of them is that he\\'s got testicles and she doesn\\'t. Stephanie whacked Bischoff on the side of the head and left!<br /><br />Match 7: Tag Team Championship Match Christian and Lance Storm vs Hollywood Hogan and Edge The match started with loud \"USA\" chants and with Hogan shoving Christian through the ropes and out of the ring. The Canadians took over from there. But Edge scored a kick to Christian\\'s head and planted a facebuster on Storm to get the tag to Hogan. Hogan began to Hulk up and soon caught Christian with a big boot and a leg drop! Storm broke up the count and Christian tossed Hogan from the ring where Storm superkicked the icon. Edge tagged in soon after and dropped both opponents. He speared both of them into the corner turnbuckles, but missed a spear on Strom and hit the ref hard instead. Edge nailed a DDT, but the ref was down and could not count. Test raced down and took down Hogan then leveled Edge with a boot. Storm tried to get the pin, but Edge kicked out after two. Riksihi sprinted in to fend off Test, allowing Edge to recover and spear Storm. Christian distracted the ref, though, and Y2J dashed in and clocked Edge with the Tag Team Championship! Storm rolled over and got the pinfall to win the title! Winners and New Tag Team Champions: Christian and Lance Storm<br /><br />Match 8: WWE Undisputed Championship Triple Threat Match. The Rock vs Kurt Angle and the Undertaker Three of WWE\\'s most successful superstars lined up against each other in a Triple Threat Match with the Undisputed Championship hanging in the balance. Taker and The Rock got face to face with Kurt Angle begging for some attention off to the side. He got attention in the form of a beat down form the two other men. Soon after, Taker spilled out of the ring and The Rock brawled with Angle. Angle gave a series of suplexes that took down Rock, but the Great One countered with a DDT that managed a two-count. The fight continued outside the ring with Taker coming to life and clotheslining Angle and repeatedly smacking The Rock. Taker and Rock got into it back into the ring, and Taker dropped The Rock with a sidewalk slam to get a two-count. Rock rebounded, grabbed Taker by the throat and chokeslammed him! Angle broke up the pin attempt that likely would have given The Rock the title. The Rock retaliated by latching on the ankle lock to Kurt Angle. Angle reversed the move and Rock Bottomed the People\\'s Champion. Soon after, The Rock disposed of Angle and hit the People\\'s Elbow on the Undertaker. Angle tried to take advantage by disabling the Great One outside the ring and covering Taker, who kicked out after a two count. Outside the ring, Rock took a big swig from a nearby water bottle and spewed the liquid into Taker\\'s face to blind the champion. Taker didn\\'t stay disabled for long, and managed to overpower Rock and turn his attention to Angle. Taker landed a guillotine leg drop onto Angle, laying on the ring apron. The Rock picked himself up just in time to break up a pin attempt on Kurt Angle. Taker nailed Rock with a DDT and set him up for a chokeslam. ANgle tried sneaking up with a steel chair, but Taker caught on to that tomfoolery and smacked it out of his hands. The referee got caught in the ensuing fire and didn\\'t see Angle knock Taker silly with a steel chair. Angle went to cover Taker as The Rock lay prone, but the Dead Man somehow got his shoulder up. Angle tried to pin Rock, but he too kicked out. The Rock got up and landed Angle in the sharpshooter! Angle looked like he was about to tap, but Taker kicked The Rock out of the submission hold. Taker picked Rock up and crashed him with the Last Ride. While the Dead Man covered him for the win, Angle raced in and picked Taker up in the ankle lock! Taker went delirious with pain, but managed to counter. He picked Angle up for the last ride, but Angle put on a triangle choke! It looked like Taker was about to pass out, but The Rock broke Angle\\'s hold only to find himself caught in the ankle lock. Rock got out of the hold and watched Taker chokeslam Angle. Rocky hit the Rock Bottom, but Taker refused to go down and kicked out. Angle whirled Taker up into the Angle Slam but was Rock Bottomed by the Great One and pinned! Winner and New WWE Champion: The Rock<br /><br />~Finally there is a decent PPV! Lately the PPV weren\\'t very good, but this one was a winner. I give this PPV a A-<br /><br />']\n"
     ]
    }
   ],
   "source": [
    "print(str(df1.loc[df1['review'].str.len() == max_chars, 'review'].values))"
   ]
  },
  {
   "cell_type": "markdown",
   "id": "329975b5-78e5-4a51-8eed-0aa04e043e9c",
   "metadata": {},
   "source": [
    "#### Min & Max Words"
   ]
  },
  {
   "cell_type": "code",
   "execution_count": 18,
   "id": "dd0a8fe9-41ee-4bd7-b47d-3c05d2f64155",
   "metadata": {},
   "outputs": [
    {
     "data": {
      "text/plain": [
       "(4, 2470)"
      ]
     },
     "execution_count": 18,
     "metadata": {},
     "output_type": "execute_result"
    }
   ],
   "source": [
    "min(df1['review'].str.split().apply(len)), max(df1['review'].str.split().apply(len))"
   ]
  },
  {
   "cell_type": "code",
   "execution_count": 19,
   "id": "54169ba3-9735-4a7a-b9fe-4299838855e4",
   "metadata": {},
   "outputs": [],
   "source": [
    "min_words = 4\n",
    "max_words = 2470"
   ]
  },
  {
   "cell_type": "code",
   "execution_count": 20,
   "id": "fe099eb9-b665-44f2-89bf-77d5df1e6eb4",
   "metadata": {},
   "outputs": [
    {
     "data": {
      "text/html": [
       "<div>\n",
       "<style scoped>\n",
       "    .dataframe tbody tr th:only-of-type {\n",
       "        vertical-align: middle;\n",
       "    }\n",
       "\n",
       "    .dataframe tbody tr th {\n",
       "        vertical-align: top;\n",
       "    }\n",
       "\n",
       "    .dataframe thead th {\n",
       "        text-align: right;\n",
       "    }\n",
       "</style>\n",
       "<table border=\"1\" class=\"dataframe\">\n",
       "  <thead>\n",
       "    <tr style=\"text-align: right;\">\n",
       "      <th></th>\n",
       "      <th>review</th>\n",
       "      <th>sentiment</th>\n",
       "    </tr>\n",
       "  </thead>\n",
       "  <tbody>\n",
       "    <tr>\n",
       "      <th>28920</th>\n",
       "      <td>Primary plot!Primary direction!Poor interpreta...</td>\n",
       "      <td>negative</td>\n",
       "    </tr>\n",
       "  </tbody>\n",
       "</table>\n",
       "</div>"
      ],
      "text/plain": [
       "                                                  review sentiment\n",
       "28920  Primary plot!Primary direction!Poor interpreta...  negative"
      ]
     },
     "execution_count": 20,
     "metadata": {},
     "output_type": "execute_result"
    }
   ],
   "source": [
    "df1[df1['review'].str.split().apply(len) == min_words]"
   ]
  },
  {
   "cell_type": "code",
   "execution_count": 21,
   "id": "7cdc899e-4c42-4f99-83e2-dd77388e6800",
   "metadata": {},
   "outputs": [
    {
     "data": {
      "text/html": [
       "<div>\n",
       "<style scoped>\n",
       "    .dataframe tbody tr th:only-of-type {\n",
       "        vertical-align: middle;\n",
       "    }\n",
       "\n",
       "    .dataframe tbody tr th {\n",
       "        vertical-align: top;\n",
       "    }\n",
       "\n",
       "    .dataframe thead th {\n",
       "        text-align: right;\n",
       "    }\n",
       "</style>\n",
       "<table border=\"1\" class=\"dataframe\">\n",
       "  <thead>\n",
       "    <tr style=\"text-align: right;\">\n",
       "      <th></th>\n",
       "      <th>review</th>\n",
       "      <th>sentiment</th>\n",
       "    </tr>\n",
       "  </thead>\n",
       "  <tbody>\n",
       "    <tr>\n",
       "      <th>31481</th>\n",
       "      <td>Match 1: Tag Team Table Match Bubba Ray and Sp...</td>\n",
       "      <td>positive</td>\n",
       "    </tr>\n",
       "  </tbody>\n",
       "</table>\n",
       "</div>"
      ],
      "text/plain": [
       "                                                  review sentiment\n",
       "31481  Match 1: Tag Team Table Match Bubba Ray and Sp...  positive"
      ]
     },
     "execution_count": 21,
     "metadata": {},
     "output_type": "execute_result"
    }
   ],
   "source": [
    "df1[df1['review'].str.split().apply(len) == max_words]"
   ]
  },
  {
   "cell_type": "markdown",
   "id": "3cc60b25-0827-40ec-be6f-26bc03a56fa1",
   "metadata": {},
   "source": [
    "#### Exploring the unique chars in our data"
   ]
  },
  {
   "cell_type": "code",
   "execution_count": 22,
   "id": "e717a0f8-4919-4271-a057-1c2724a16768",
   "metadata": {},
   "outputs": [],
   "source": [
    "sentences_list = df1['review'].tolist()"
   ]
  },
  {
   "cell_type": "code",
   "execution_count": 23,
   "id": "1dd1d3b6-8531-4df0-8adc-6e04eb020ea6",
   "metadata": {},
   "outputs": [
    {
     "data": {
      "text/plain": [
       "162"
      ]
     },
     "execution_count": 23,
     "metadata": {},
     "output_type": "execute_result"
    }
   ],
   "source": [
    "unique_chars = get_unique_chars(sentences_list)\n",
    "len(unique_chars)"
   ]
  },
  {
   "cell_type": "code",
   "execution_count": 24,
   "id": "c20124f5-433e-4c0d-a48b-bd52ce5b2ab6",
   "metadata": {},
   "outputs": [
    {
     "name": "stdout",
     "output_type": "stream",
     "text": [
      "{'\\x80', '\\x9a', 't', '|', '1', '³', '9', '\\x9e', 'p', 'z', '°', 'u', ' ', 'o', '\\x96', '.', '¤', 'ï', '…', 'w', '(', '\\x08', '★', '3', '=', '–', 'g', '?', '§', '»', '¾', '+', 'n', 'ø', '\\x8d', '¦', '\\\\', 'j', 'é', '*', 'á', '7', 'ö', 'ō', '₤', '~', '^', '\\x10', 'i', '[', 'ã', 'º', 'ç', 'י', 'a', '\\x8e', 'ë', 'ú', '“', 'ò', 's', 'õ', '!', '”', '>', ']', '#', '·', 'l', '¨', 'ı', 'ן', '\\uf0b7', '`', '@', 'ü', 'מ', '\\xa0', 'x', '\\x85', '\\xad', 'à', 'א', '0', 'v', 'h', '\"', '¡', 'ג', 'ä', '‘', '{', '，', '’', '5', ';', ',', 'm', '2', '\\x97', 'ó', 'æ', '©', 'כ', 'ו', '6', 'å', '\\x84', 'î', '\\x91', '-', '\\t', 'r', 'ż', 'í', 'f', '´', 'ר', 'ל', 'û', 'þ', 'ß', '®', 'â', '%', 'ý', 'ô', 'ì', 'ª', 'q', '▼', '8', 'ð', 'è', 'd', '\\x95', ')', 'c', '¢', '«', 'e', '_', 'k', 'y', '/', '″', '4', 'b', ':', '$', '}', \"'\", '½', 'ñ', '、', '¿', 'ù', '£', '&', '<', 'ğ', 'ê'}\n"
     ]
    }
   ],
   "source": [
    "print(unique_chars)"
   ]
  },
  {
   "cell_type": "markdown",
   "id": "1386aec3-d2f4-4f23-8c2b-9738786040ca",
   "metadata": {},
   "source": [
    "### Cleaning Text"
   ]
  },
  {
   "cell_type": "code",
   "execution_count": 25,
   "id": "36afaeab-9771-43ba-988a-1b44272b3b17",
   "metadata": {},
   "outputs": [
    {
     "data": {
      "text/html": [
       "<div>\n",
       "<style scoped>\n",
       "    .dataframe tbody tr th:only-of-type {\n",
       "        vertical-align: middle;\n",
       "    }\n",
       "\n",
       "    .dataframe tbody tr th {\n",
       "        vertical-align: top;\n",
       "    }\n",
       "\n",
       "    .dataframe thead th {\n",
       "        text-align: right;\n",
       "    }\n",
       "</style>\n",
       "<table border=\"1\" class=\"dataframe\">\n",
       "  <thead>\n",
       "    <tr style=\"text-align: right;\">\n",
       "      <th></th>\n",
       "      <th>review</th>\n",
       "      <th>sentiment</th>\n",
       "      <th>cleaned_review</th>\n",
       "    </tr>\n",
       "  </thead>\n",
       "  <tbody>\n",
       "    <tr>\n",
       "      <th>0</th>\n",
       "      <td>One of the other reviewers has mentioned that ...</td>\n",
       "      <td>positive</td>\n",
       "      <td>one of the other reviewers has mentioned that ...</td>\n",
       "    </tr>\n",
       "    <tr>\n",
       "      <th>1</th>\n",
       "      <td>A wonderful little production. &lt;br /&gt;&lt;br /&gt;The...</td>\n",
       "      <td>positive</td>\n",
       "      <td>a wonderful little production. the filming tec...</td>\n",
       "    </tr>\n",
       "    <tr>\n",
       "      <th>2</th>\n",
       "      <td>I thought this was a wonderful way to spend ti...</td>\n",
       "      <td>positive</td>\n",
       "      <td>i thought this was a wonderful way to spend ti...</td>\n",
       "    </tr>\n",
       "    <tr>\n",
       "      <th>3</th>\n",
       "      <td>Basically there's a family where a little boy ...</td>\n",
       "      <td>negative</td>\n",
       "      <td>basically there's a family where a little boy ...</td>\n",
       "    </tr>\n",
       "    <tr>\n",
       "      <th>4</th>\n",
       "      <td>Petter Mattei's \"Love in the Time of Money\" is...</td>\n",
       "      <td>positive</td>\n",
       "      <td>petter mattei's love in the time of money is a...</td>\n",
       "    </tr>\n",
       "  </tbody>\n",
       "</table>\n",
       "</div>"
      ],
      "text/plain": [
       "                                              review sentiment  \\\n",
       "0  One of the other reviewers has mentioned that ...  positive   \n",
       "1  A wonderful little production. <br /><br />The...  positive   \n",
       "2  I thought this was a wonderful way to spend ti...  positive   \n",
       "3  Basically there's a family where a little boy ...  negative   \n",
       "4  Petter Mattei's \"Love in the Time of Money\" is...  positive   \n",
       "\n",
       "                                      cleaned_review  \n",
       "0  one of the other reviewers has mentioned that ...  \n",
       "1  a wonderful little production. the filming tec...  \n",
       "2  i thought this was a wonderful way to spend ti...  \n",
       "3  basically there's a family where a little boy ...  \n",
       "4  petter mattei's love in the time of money is a...  "
      ]
     },
     "execution_count": 25,
     "metadata": {},
     "output_type": "execute_result"
    }
   ],
   "source": [
    "# Apply the cleaning to the dataset \n",
    "df_cleaned = df1.copy()\n",
    "df_cleaned['cleaned_review'] = df_cleaned['review'].apply(clean_text) # clean_text code in utils.clean_text\n",
    "df_cleaned.head()"
   ]
  },
  {
   "cell_type": "code",
   "execution_count": 26,
   "id": "75010f0d-a8f2-4ffc-a2be-89ef9e8b9692",
   "metadata": {},
   "outputs": [
    {
     "data": {
      "text/plain": [
       "43"
      ]
     },
     "execution_count": 26,
     "metadata": {},
     "output_type": "execute_result"
    }
   ],
   "source": [
    "cleaned_unique_chars = get_unique_chars(df_cleaned['cleaned_review'].tolist())\n",
    "len(cleaned_unique_chars)"
   ]
  },
  {
   "cell_type": "code",
   "execution_count": 27,
   "id": "247e521a-09ef-493b-a807-71a1058688b5",
   "metadata": {},
   "outputs": [
    {
     "name": "stdout",
     "output_type": "stream",
     "text": [
      "{'q', '8', 't', '7', 'd', '5', '1', 'c', 'i', ',', 'm', '2', '9', 'p', 'e', 'a', 'k', 'z', 'y', '4', 'u', ' ', 'o', '6', 's', 'b', '!', '.', '0', \"'\", 'r', 'w', 'l', 'f', '★', '3', 'x', 'g', '?', 'n', 'v', 'h', 'j'}\n"
     ]
    }
   ],
   "source": [
    "print(cleaned_unique_chars)"
   ]
  },
  {
   "cell_type": "markdown",
   "id": "f0fa62ed-38a1-42bf-8879-adf85d0e0074",
   "metadata": {},
   "source": [
    "---\n",
    "---"
   ]
  },
  {
   "cell_type": "markdown",
   "id": "0f2b829e-3bc7-4a99-919c-7729e2e43126",
   "metadata": {},
   "source": [
    "## Preprocessing Data"
   ]
  },
  {
   "cell_type": "markdown",
   "id": "bb46902d-da25-452c-bbd3-b7177c2673fa",
   "metadata": {},
   "source": [
    "### Tokenization"
   ]
  },
  {
   "cell_type": "code",
   "execution_count": 28,
   "id": "5d429894-f3ef-4747-9b5c-0fc513ea4064",
   "metadata": {},
   "outputs": [],
   "source": [
    "df_tokenized = df_cleaned.copy()\n",
    "df_tokenized['tokenized'] = df_tokenized['cleaned_review'].apply(tokenize_text)"
   ]
  },
  {
   "cell_type": "code",
   "execution_count": 29,
   "id": "86c9d0eb-56e9-4032-b2a5-df188fc5960f",
   "metadata": {
    "scrolled": true
   },
   "outputs": [
    {
     "data": {
      "text/plain": [
       "['one',\n",
       " 'of',\n",
       " 'the',\n",
       " 'other',\n",
       " 'reviewers',\n",
       " 'has',\n",
       " 'mentioned',\n",
       " 'that',\n",
       " 'after',\n",
       " 'watching',\n",
       " 'just',\n",
       " '1',\n",
       " 'oz',\n",
       " 'episode',\n",
       " \"you'll\",\n",
       " 'be',\n",
       " 'hooked',\n",
       " '.',\n",
       " 'they',\n",
       " 'are',\n",
       " 'right',\n",
       " ',',\n",
       " 'as',\n",
       " 'this',\n",
       " 'is',\n",
       " 'exactly',\n",
       " 'what',\n",
       " 'happened',\n",
       " 'with',\n",
       " 'me',\n",
       " '.',\n",
       " 'the',\n",
       " 'first',\n",
       " 'thing',\n",
       " 'that',\n",
       " 'struck',\n",
       " 'me',\n",
       " 'about',\n",
       " 'oz',\n",
       " 'was',\n",
       " 'its',\n",
       " 'brutality',\n",
       " 'and',\n",
       " 'unflinching',\n",
       " 'scenes',\n",
       " 'of',\n",
       " 'violence',\n",
       " ',',\n",
       " 'which',\n",
       " 'set',\n",
       " 'in',\n",
       " 'right',\n",
       " 'from',\n",
       " 'the',\n",
       " 'word',\n",
       " 'go',\n",
       " '.',\n",
       " 'trust',\n",
       " 'me',\n",
       " ',',\n",
       " 'this',\n",
       " 'is',\n",
       " 'not',\n",
       " 'a',\n",
       " 'show',\n",
       " 'for',\n",
       " 'the',\n",
       " 'faint',\n",
       " 'hearted',\n",
       " 'or',\n",
       " 'timid',\n",
       " '.',\n",
       " 'this',\n",
       " 'show',\n",
       " 'pulls',\n",
       " 'no',\n",
       " 'punches',\n",
       " 'with',\n",
       " 'regards',\n",
       " 'to',\n",
       " 'drugs',\n",
       " ',',\n",
       " 'sex',\n",
       " 'or',\n",
       " 'violence',\n",
       " '.',\n",
       " 'its',\n",
       " 'is',\n",
       " 'hardcore',\n",
       " ',',\n",
       " 'in',\n",
       " 'the',\n",
       " 'classic',\n",
       " 'use',\n",
       " 'of',\n",
       " 'the',\n",
       " 'word',\n",
       " '.',\n",
       " 'it',\n",
       " 'is',\n",
       " 'called',\n",
       " 'oz',\n",
       " 'as',\n",
       " 'that',\n",
       " 'is',\n",
       " 'the',\n",
       " 'nickname',\n",
       " 'given',\n",
       " 'to',\n",
       " 'the',\n",
       " 'oswald',\n",
       " 'maximum',\n",
       " 'security',\n",
       " 'state',\n",
       " 'penitentary',\n",
       " '.',\n",
       " 'it',\n",
       " 'focuses',\n",
       " 'mainly',\n",
       " 'on',\n",
       " 'emerald',\n",
       " 'city',\n",
       " ',',\n",
       " 'an',\n",
       " 'experimental',\n",
       " 'section',\n",
       " 'of',\n",
       " 'the',\n",
       " 'prison',\n",
       " 'where',\n",
       " 'all',\n",
       " 'the',\n",
       " 'cells',\n",
       " 'have',\n",
       " 'glass',\n",
       " 'fronts',\n",
       " 'and',\n",
       " 'face',\n",
       " 'inwards',\n",
       " ',',\n",
       " 'so',\n",
       " 'privacy',\n",
       " 'is',\n",
       " 'not',\n",
       " 'high',\n",
       " 'on',\n",
       " 'the',\n",
       " 'agenda',\n",
       " '.',\n",
       " 'em',\n",
       " 'city',\n",
       " 'is',\n",
       " 'home',\n",
       " 'to',\n",
       " 'many',\n",
       " '.',\n",
       " 'aryans',\n",
       " ',',\n",
       " 'muslims',\n",
       " ',',\n",
       " 'gangstas',\n",
       " ',',\n",
       " 'latinos',\n",
       " ',',\n",
       " 'christians',\n",
       " ',',\n",
       " 'italians',\n",
       " ',',\n",
       " 'irish',\n",
       " 'and',\n",
       " 'more',\n",
       " '.',\n",
       " 'so',\n",
       " 'scuffles',\n",
       " ',',\n",
       " 'death',\n",
       " 'stares',\n",
       " ',',\n",
       " 'dodgy',\n",
       " 'dealings',\n",
       " 'and',\n",
       " 'shady',\n",
       " 'agreements',\n",
       " 'are',\n",
       " 'never',\n",
       " 'far',\n",
       " 'away',\n",
       " '.',\n",
       " 'i',\n",
       " 'would',\n",
       " 'say',\n",
       " 'the',\n",
       " 'main',\n",
       " 'appeal',\n",
       " 'of',\n",
       " 'the',\n",
       " 'show',\n",
       " 'is',\n",
       " 'due',\n",
       " 'to',\n",
       " 'the',\n",
       " 'fact',\n",
       " 'that',\n",
       " 'it',\n",
       " 'goes',\n",
       " 'where',\n",
       " 'other',\n",
       " 'shows',\n",
       " \"wouldn't\",\n",
       " 'dare',\n",
       " '.',\n",
       " 'forget',\n",
       " 'pretty',\n",
       " 'pictures',\n",
       " 'painted',\n",
       " 'for',\n",
       " 'mainstream',\n",
       " 'audiences',\n",
       " ',',\n",
       " 'forget',\n",
       " 'charm',\n",
       " ',',\n",
       " 'forget',\n",
       " 'romance',\n",
       " '.',\n",
       " 'oz',\n",
       " \"doesn't\",\n",
       " 'mess',\n",
       " 'around',\n",
       " '.',\n",
       " 'the',\n",
       " 'first',\n",
       " 'episode',\n",
       " 'i',\n",
       " 'ever',\n",
       " 'saw',\n",
       " 'struck',\n",
       " 'me',\n",
       " 'as',\n",
       " 'so',\n",
       " 'nasty',\n",
       " 'it',\n",
       " 'was',\n",
       " 'surreal',\n",
       " ',',\n",
       " 'i',\n",
       " \"couldn't\",\n",
       " 'say',\n",
       " 'i',\n",
       " 'was',\n",
       " 'ready',\n",
       " 'for',\n",
       " 'it',\n",
       " ',',\n",
       " 'but',\n",
       " 'as',\n",
       " 'i',\n",
       " 'watched',\n",
       " 'more',\n",
       " ',',\n",
       " 'i',\n",
       " 'developed',\n",
       " 'a',\n",
       " 'taste',\n",
       " 'for',\n",
       " 'oz',\n",
       " ',',\n",
       " 'and',\n",
       " 'got',\n",
       " 'accustomed',\n",
       " 'to',\n",
       " 'the',\n",
       " 'high',\n",
       " 'levels',\n",
       " 'of',\n",
       " 'graphic',\n",
       " 'violence',\n",
       " '.',\n",
       " 'not',\n",
       " 'just',\n",
       " 'violence',\n",
       " ',',\n",
       " 'but',\n",
       " 'injustice',\n",
       " 'crooked',\n",
       " 'guards',\n",
       " \"who'll\",\n",
       " 'be',\n",
       " 'sold',\n",
       " 'out',\n",
       " 'for',\n",
       " 'a',\n",
       " 'nickel',\n",
       " ',',\n",
       " 'inmates',\n",
       " \"who'll\",\n",
       " 'kill',\n",
       " 'on',\n",
       " 'order',\n",
       " 'and',\n",
       " 'get',\n",
       " 'away',\n",
       " 'with',\n",
       " 'it',\n",
       " ',',\n",
       " 'well',\n",
       " 'mannered',\n",
       " ',',\n",
       " 'middle',\n",
       " 'class',\n",
       " 'inmates',\n",
       " 'being',\n",
       " 'turned',\n",
       " 'into',\n",
       " 'prison',\n",
       " 'bitches',\n",
       " 'due',\n",
       " 'to',\n",
       " 'their',\n",
       " 'lack',\n",
       " 'of',\n",
       " 'street',\n",
       " 'skills',\n",
       " 'or',\n",
       " 'prison',\n",
       " 'experience',\n",
       " 'watching',\n",
       " 'oz',\n",
       " ',',\n",
       " 'you',\n",
       " 'may',\n",
       " 'become',\n",
       " 'comfortable',\n",
       " 'with',\n",
       " 'what',\n",
       " 'is',\n",
       " 'uncomfortable',\n",
       " 'viewing',\n",
       " '.',\n",
       " 'thats',\n",
       " 'if',\n",
       " 'you',\n",
       " 'can',\n",
       " 'get',\n",
       " 'in',\n",
       " 'touch',\n",
       " 'with',\n",
       " 'your',\n",
       " 'darker',\n",
       " 'side',\n",
       " '.']"
      ]
     },
     "execution_count": 29,
     "metadata": {},
     "output_type": "execute_result"
    }
   ],
   "source": [
    "df_tokenized['tokenized'][0]"
   ]
  },
  {
   "cell_type": "markdown",
   "id": "b11e0215-992a-472a-b1b4-cfbd2578f2f6",
   "metadata": {},
   "source": [
    "### Padding Sentences"
   ]
  },
  {
   "cell_type": "code",
   "execution_count": 30,
   "id": "a6ac7dae-f9ee-4c6c-929c-53d49dda361d",
   "metadata": {},
   "outputs": [
    {
     "data": {
      "text/html": [
       "<div>\n",
       "<style scoped>\n",
       "    .dataframe tbody tr th:only-of-type {\n",
       "        vertical-align: middle;\n",
       "    }\n",
       "\n",
       "    .dataframe tbody tr th {\n",
       "        vertical-align: top;\n",
       "    }\n",
       "\n",
       "    .dataframe thead th {\n",
       "        text-align: right;\n",
       "    }\n",
       "</style>\n",
       "<table border=\"1\" class=\"dataframe\">\n",
       "  <thead>\n",
       "    <tr style=\"text-align: right;\">\n",
       "      <th></th>\n",
       "      <th>review</th>\n",
       "      <th>sentiment</th>\n",
       "      <th>cleaned_review</th>\n",
       "      <th>tokenized</th>\n",
       "      <th>num_of_tokens</th>\n",
       "    </tr>\n",
       "  </thead>\n",
       "  <tbody>\n",
       "    <tr>\n",
       "      <th>0</th>\n",
       "      <td>One of the other reviewers has mentioned that ...</td>\n",
       "      <td>positive</td>\n",
       "      <td>one of the other reviewers has mentioned that ...</td>\n",
       "      <td>[one, of, the, other, reviewers, has, mentione...</td>\n",
       "      <td>351</td>\n",
       "    </tr>\n",
       "    <tr>\n",
       "      <th>1</th>\n",
       "      <td>A wonderful little production. &lt;br /&gt;&lt;br /&gt;The...</td>\n",
       "      <td>positive</td>\n",
       "      <td>a wonderful little production. the filming tec...</td>\n",
       "      <td>[a, wonderful, little, production, ., the, fil...</td>\n",
       "      <td>168</td>\n",
       "    </tr>\n",
       "    <tr>\n",
       "      <th>2</th>\n",
       "      <td>I thought this was a wonderful way to spend ti...</td>\n",
       "      <td>positive</td>\n",
       "      <td>i thought this was a wonderful way to spend ti...</td>\n",
       "      <td>[i, thought, this, was, a, wonderful, way, to,...</td>\n",
       "      <td>177</td>\n",
       "    </tr>\n",
       "    <tr>\n",
       "      <th>3</th>\n",
       "      <td>Basically there's a family where a little boy ...</td>\n",
       "      <td>negative</td>\n",
       "      <td>basically there's a family where a little boy ...</td>\n",
       "      <td>[basically, there's, a, family, where, a, litt...</td>\n",
       "      <td>145</td>\n",
       "    </tr>\n",
       "    <tr>\n",
       "      <th>4</th>\n",
       "      <td>Petter Mattei's \"Love in the Time of Money\" is...</td>\n",
       "      <td>positive</td>\n",
       "      <td>petter mattei's love in the time of money is a...</td>\n",
       "      <td>[petter, mattei's, love, in, the, time, of, mo...</td>\n",
       "      <td>252</td>\n",
       "    </tr>\n",
       "  </tbody>\n",
       "</table>\n",
       "</div>"
      ],
      "text/plain": [
       "                                              review sentiment  \\\n",
       "0  One of the other reviewers has mentioned that ...  positive   \n",
       "1  A wonderful little production. <br /><br />The...  positive   \n",
       "2  I thought this was a wonderful way to spend ti...  positive   \n",
       "3  Basically there's a family where a little boy ...  negative   \n",
       "4  Petter Mattei's \"Love in the Time of Money\" is...  positive   \n",
       "\n",
       "                                      cleaned_review  \\\n",
       "0  one of the other reviewers has mentioned that ...   \n",
       "1  a wonderful little production. the filming tec...   \n",
       "2  i thought this was a wonderful way to spend ti...   \n",
       "3  basically there's a family where a little boy ...   \n",
       "4  petter mattei's love in the time of money is a...   \n",
       "\n",
       "                                           tokenized  num_of_tokens  \n",
       "0  [one, of, the, other, reviewers, has, mentione...            351  \n",
       "1  [a, wonderful, little, production, ., the, fil...            168  \n",
       "2  [i, thought, this, was, a, wonderful, way, to,...            177  \n",
       "3  [basically, there's, a, family, where, a, litt...            145  \n",
       "4  [petter, mattei's, love, in, the, time, of, mo...            252  "
      ]
     },
     "execution_count": 30,
     "metadata": {},
     "output_type": "execute_result"
    }
   ],
   "source": [
    "df_tokenized['num_of_tokens'] = df_tokenized['tokenized'].apply(len)\n",
    "df_tokenized.head()"
   ]
  },
  {
   "cell_type": "code",
   "execution_count": 31,
   "id": "9f2d3e18-1dc7-4a2b-ba91-40ed8eb8555e",
   "metadata": {},
   "outputs": [
    {
     "data": {
      "image/png": "[encoded data removed]",
      "text/plain": [
       "<Figure size 1200x600 with 2 Axes>"
      ]
     },
     "metadata": {},
     "output_type": "display_data"
    }
   ],
   "source": [
    "# Examine the distribution of the lengths\n",
    "fig, (ax1, ax2) = plt.subplots(nrows = 1, ncols = 2, figsize = (12, 6))\n",
    "\n",
    "sns.histplot(\n",
    "    data = df_tokenized,\n",
    "    x = 'num_of_tokens',\n",
    "    ax = ax1\n",
    ")\n",
    "\n",
    "sns.boxplot(\n",
    "    data = df_tokenized,\n",
    "    x = 'num_of_tokens',\n",
    "    ax = ax2\n",
    ")\n",
    "\n",
    "ax1.set_title(\"num_of_tokens Histogram\", fontsize = 12); ax2.set_title(\"num_of_tokens Boxplot\", fontsize = 12);\n",
    "plt.tight_layout()\n",
    "plt.show()                               "
   ]
  },
  {
   "cell_type": "code",
   "execution_count": 32,
   "id": "8d288058-b79c-424b-863f-2eb9c0167955",
   "metadata": {},
   "outputs": [
    {
     "data": {
      "text/plain": [
       "count    49582.000000\n",
       "mean       252.929370\n",
       "std        186.357183\n",
       "min          8.000000\n",
       "25%        139.000000\n",
       "50%        190.000000\n",
       "75%        307.000000\n",
       "max       2686.000000\n",
       "Name: num_of_tokens, dtype: float64"
      ]
     },
     "execution_count": 32,
     "metadata": {},
     "output_type": "execute_result"
    }
   ],
   "source": [
    "df_tokenized['num_of_tokens'].describe()"
   ]
  },
  {
   "cell_type": "code",
   "execution_count": 33,
   "id": "c5c3cedc-01a3-4f52-ace0-e8789a31744a",
   "metadata": {},
   "outputs": [
    {
     "data": {
      "text/plain": [
       "(36118, 5)"
      ]
     },
     "execution_count": 33,
     "metadata": {},
     "output_type": "execute_result"
    }
   ],
   "source": [
    "df_tokenized[( (df_tokenized['num_of_tokens'] >= 50) & (df_tokenized['num_of_tokens'] <= 300) )].shape"
   ]
  },
  {
   "cell_type": "markdown",
   "id": "fc50655f-cd25-4763-b95a-bdd2d47f5d84",
   "metadata": {},
   "source": [
    "we will standardize the review lengths as follows:\n",
    "- Filter out reviews shorter than 50 tokens (to remove extremely short and uninformative reviews).\n",
    "- Truncate reviews longer than 300 tokens.\n",
    "- Apply <pad> tokens to make all reviews 300 tokens long."
   ]
  },
  {
   "cell_type": "code",
   "execution_count": 34,
   "id": "7df2faa9-7d3c-473e-88b4-06708a6fedae",
   "metadata": {},
   "outputs": [],
   "source": [
    "LOWER_LIMIT = 50\n",
    "UPPER_LIMIT = 300\n",
    "df_tokenized = df_tokenized[df_tokenized['num_of_tokens'] >= LOWER_LIMIT]"
   ]
  },
  {
   "cell_type": "code",
   "execution_count": 35,
   "id": "754a8356-80ee-4923-8b03-ed1d4aadbe99",
   "metadata": {},
   "outputs": [
    {
     "data": {
      "text/plain": [
       "count    48899.000000\n",
       "mean       255.891266\n",
       "std        185.947121\n",
       "min         50.000000\n",
       "25%        141.000000\n",
       "50%        192.000000\n",
       "75%        309.000000\n",
       "max       2686.000000\n",
       "Name: num_of_tokens, dtype: float64"
      ]
     },
     "execution_count": 35,
     "metadata": {},
     "output_type": "execute_result"
    }
   ],
   "source": [
    "df_tokenized.num_of_tokens.describe()"
   ]
  },
  {
   "cell_type": "code",
   "execution_count": 36,
   "id": "70b9b7c0-6739-4b88-bfa3-dd67e4821ef2",
   "metadata": {},
   "outputs": [
    {
     "data": {
      "text/plain": [
       "(48899, 5)"
      ]
     },
     "execution_count": 36,
     "metadata": {},
     "output_type": "execute_result"
    }
   ],
   "source": [
    "df_tokenized.shape"
   ]
  },
  {
   "cell_type": "code",
   "execution_count": 37,
   "id": "282020b9-bfaa-4cd6-b458-6361dc5cf0b0",
   "metadata": {},
   "outputs": [],
   "source": [
    "df_padded = df_tokenized.copy()\n",
    "df_padded['padded'] = df_padded['tokenized'].apply(\n",
    "    lambda x: pad_sequence(x, max_len = UPPER_LIMIT)\n",
    ")\n",
    "df_padded['num_of_padded_tokens'] = df_padded['padded'].apply(len)"
   ]
  },
  {
   "cell_type": "code",
   "execution_count": 38,
   "id": "1d17b2df-dd61-4621-a09b-5907fe989ddb",
   "metadata": {},
   "outputs": [
    {
     "data": {
      "text/plain": [
       "count    48899.0\n",
       "mean       300.0\n",
       "std          0.0\n",
       "min        300.0\n",
       "25%        300.0\n",
       "50%        300.0\n",
       "75%        300.0\n",
       "max        300.0\n",
       "Name: num_of_padded_tokens, dtype: float64"
      ]
     },
     "execution_count": 38,
     "metadata": {},
     "output_type": "execute_result"
    }
   ],
   "source": [
    "df_padded.num_of_padded_tokens.describe()"
   ]
  },
  {
   "cell_type": "code",
   "execution_count": 39,
   "id": "860a1bc3-e17b-46b7-a95c-3b59d38b7c54",
   "metadata": {},
   "outputs": [
    {
     "data": {
      "text/plain": [
       "(48899, 7)"
      ]
     },
     "execution_count": 39,
     "metadata": {},
     "output_type": "execute_result"
    }
   ],
   "source": [
    "df_padded.shape"
   ]
  },
  {
   "cell_type": "markdown",
   "id": "141f1a5a-581b-48bd-a870-4204fa0c34b0",
   "metadata": {},
   "source": [
    "### Constructing a Vocab & Numericalization"
   ]
  },
  {
   "cell_type": "code",
   "execution_count": 40,
   "id": "1e4d63e4-2256-42b4-9c1d-2a648160a37f",
   "metadata": {},
   "outputs": [
    {
     "data": {
      "text/plain": [
       "14669700"
      ]
     },
     "execution_count": 40,
     "metadata": {},
     "output_type": "execute_result"
    }
   ],
   "source": [
    "all_tokens = [token for sentence in df_padded['padded'] for token in sentence]\n",
    "len(all_tokens)"
   ]
  },
  {
   "cell_type": "code",
   "execution_count": 41,
   "id": "028235f4-4696-40a2-8162-3082af9a1d13",
   "metadata": {},
   "outputs": [
    {
     "data": {
      "text/plain": [
       "['<pad>', 'the', '.', ',', 'a', 'and', 'of', 'to', 'is', 'in']"
      ]
     },
     "execution_count": 41,
     "metadata": {},
     "output_type": "execute_result"
    }
   ],
   "source": [
    "# construct a vocab of 30K words\n",
    "VOCAB_SIZE = 30000\n",
    "word_counts = Counter(all_tokens)\n",
    "most_common_words = word_counts.most_common(VOCAB_SIZE)\n",
    "vocab = [word for word, _ in most_common_words]\n",
    "vocab[0:10]"
   ]
  },
  {
   "cell_type": "code",
   "execution_count": 42,
   "id": "a6ae5bd0-e12c-43e5-b201-1771e87b874b",
   "metadata": {},
   "outputs": [],
   "source": [
    "idx_to_word = {idx:word for idx, word in enumerate(vocab)}\n",
    "word_to_idx = {word:idx for idx, word in enumerate(vocab)}"
   ]
  },
  {
   "cell_type": "markdown",
   "id": "dfdee412-6fb5-4500-9e21-57f9bdde8d5f",
   "metadata": {},
   "source": [
    "### Encode Target Data"
   ]
  },
  {
   "cell_type": "code",
   "execution_count": 43,
   "id": "1e71714f-2a33-4c65-88ba-5f842dfe22cf",
   "metadata": {},
   "outputs": [
    {
     "data": {
      "text/plain": [
       "sentiment\n",
       "positive    24488\n",
       "negative    24411\n",
       "Name: count, dtype: int64"
      ]
     },
     "execution_count": 43,
     "metadata": {},
     "output_type": "execute_result"
    }
   ],
   "source": [
    "df_padded.sentiment.value_counts()"
   ]
  },
  {
   "cell_type": "code",
   "execution_count": 44,
   "id": "da8cbb2a-9202-4553-afb3-5a2915d38655",
   "metadata": {},
   "outputs": [
    {
     "data": {
      "text/plain": [
       "sentiment\n",
       "1    24488\n",
       "0    24411\n",
       "Name: count, dtype: int64"
      ]
     },
     "execution_count": 44,
     "metadata": {},
     "output_type": "execute_result"
    }
   ],
   "source": [
    "df_encoded = df_padded.copy()\n",
    "encoding_dict = {\n",
    "    'positive' : 1,\n",
    "    'negative' : 0\n",
    "}\n",
    "df_encoded['sentiment'] = df_encoded['sentiment'].map(encoding_dict)\n",
    "df_encoded.sentiment.value_counts()"
   ]
  },
  {
   "cell_type": "markdown",
   "id": "cefde095-7f3c-435f-9303-7bea34855ff8",
   "metadata": {},
   "source": [
    "### Preparing X & Y"
   ]
  },
  {
   "cell_type": "code",
   "execution_count": 45,
   "id": "c8686e79-23e9-4818-b307-cc82ee933d7b",
   "metadata": {},
   "outputs": [
    {
     "data": {
      "text/html": [
       "<div>\n",
       "<style scoped>\n",
       "    .dataframe tbody tr th:only-of-type {\n",
       "        vertical-align: middle;\n",
       "    }\n",
       "\n",
       "    .dataframe tbody tr th {\n",
       "        vertical-align: top;\n",
       "    }\n",
       "\n",
       "    .dataframe thead th {\n",
       "        text-align: right;\n",
       "    }\n",
       "</style>\n",
       "<table border=\"1\" class=\"dataframe\">\n",
       "  <thead>\n",
       "    <tr style=\"text-align: right;\">\n",
       "      <th></th>\n",
       "      <th>padded</th>\n",
       "      <th>sentiment</th>\n",
       "    </tr>\n",
       "  </thead>\n",
       "  <tbody>\n",
       "    <tr>\n",
       "      <th>0</th>\n",
       "      <td>[one, of, the, other, reviewers, has, mentione...</td>\n",
       "      <td>1</td>\n",
       "    </tr>\n",
       "    <tr>\n",
       "      <th>1</th>\n",
       "      <td>[a, wonderful, little, production, ., the, fil...</td>\n",
       "      <td>1</td>\n",
       "    </tr>\n",
       "    <tr>\n",
       "      <th>2</th>\n",
       "      <td>[i, thought, this, was, a, wonderful, way, to,...</td>\n",
       "      <td>1</td>\n",
       "    </tr>\n",
       "    <tr>\n",
       "      <th>3</th>\n",
       "      <td>[basically, there's, a, family, where, a, litt...</td>\n",
       "      <td>0</td>\n",
       "    </tr>\n",
       "    <tr>\n",
       "      <th>4</th>\n",
       "      <td>[petter, mattei's, love, in, the, time, of, mo...</td>\n",
       "      <td>1</td>\n",
       "    </tr>\n",
       "  </tbody>\n",
       "</table>\n",
       "</div>"
      ],
      "text/plain": [
       "                                              padded  sentiment\n",
       "0  [one, of, the, other, reviewers, has, mentione...          1\n",
       "1  [a, wonderful, little, production, ., the, fil...          1\n",
       "2  [i, thought, this, was, a, wonderful, way, to,...          1\n",
       "3  [basically, there's, a, family, where, a, litt...          0\n",
       "4  [petter, mattei's, love, in, the, time, of, mo...          1"
      ]
     },
     "execution_count": 45,
     "metadata": {},
     "output_type": "execute_result"
    }
   ],
   "source": [
    "df_train = df_encoded[['padded', 'sentiment']]\n",
    "df_train.head()"
   ]
  },
  {
   "cell_type": "code",
   "execution_count": 46,
   "id": "66253d42-5587-4eb8-970c-19649e936218",
   "metadata": {},
   "outputs": [],
   "source": [
    "# Splitting data for train & test\n",
    "\n",
    "X = df_train['padded']\n",
    "Y = df_train['sentiment']\n",
    "X_train, X_, Y_train, Y_ = train_test_split(\n",
    "    X, Y,\n",
    "    test_size = 0.2,\n",
    "    random_state = 0\n",
    ")"
   ]
  },
  {
   "cell_type": "code",
   "execution_count": 47,
   "id": "7b7e6a82-87b7-4d1a-a911-539efcfeb23a",
   "metadata": {},
   "outputs": [],
   "source": [
    "X_val, X_test, Y_val, Y_test = train_test_split(\n",
    "    X_, Y_,\n",
    "    test_size = 0.5,\n",
    "    random_state = 0\n",
    ")"
   ]
  },
  {
   "cell_type": "code",
   "execution_count": 48,
   "id": "1d811736-a062-47f2-a724-a62016944d20",
   "metadata": {},
   "outputs": [
    {
     "data": {
      "text/plain": [
       "((39119,), (39119,))"
      ]
     },
     "execution_count": 48,
     "metadata": {},
     "output_type": "execute_result"
    }
   ],
   "source": [
    "X_train.shape, Y_train.shape"
   ]
  },
  {
   "cell_type": "code",
   "execution_count": 49,
   "id": "789328ca-efc4-4a99-90ca-26f64ba488b2",
   "metadata": {},
   "outputs": [
    {
     "data": {
      "text/plain": [
       "((4890,), (4890,))"
      ]
     },
     "execution_count": 49,
     "metadata": {},
     "output_type": "execute_result"
    }
   ],
   "source": [
    "X_val.shape, Y_val.shape"
   ]
  },
  {
   "cell_type": "code",
   "execution_count": 50,
   "id": "2ab679e6-8749-4cc0-8812-e29febb619e8",
   "metadata": {},
   "outputs": [
    {
     "data": {
      "text/plain": [
       "((4890,), (4890,))"
      ]
     },
     "execution_count": 50,
     "metadata": {},
     "output_type": "execute_result"
    }
   ],
   "source": [
    "X_test.shape, Y_test.shape"
   ]
  },
  {
   "cell_type": "markdown",
   "id": "5c4591b7-91bf-4db7-b3db-36aa44922a3c",
   "metadata": {},
   "source": [
    "---\n",
    "---"
   ]
  },
  {
   "cell_type": "markdown",
   "id": "59d205d4-a376-4991-b5de-d59c37352622",
   "metadata": {},
   "source": [
    "## Model Development Process"
   ]
  },
  {
   "cell_type": "code",
   "execution_count": 51,
   "id": "77051943-772f-4220-975f-8f2cef66db73",
   "metadata": {},
   "outputs": [
    {
     "name": "stdout",
     "output_type": "stream",
     "text": [
      "CPU times: total: 2.98 s\n",
      "Wall time: 3 s\n"
     ]
    }
   ],
   "source": [
    "%%time\n",
    "\n",
    "# Loading the glove embeddings\n",
    "word_to_vec_map = load_glove_vecs(\"data/glove.6B.50d.txt\")"
   ]
  },
  {
   "cell_type": "code",
   "execution_count": 52,
   "id": "2a5793a2-13e5-424c-b28c-f2c66f3a895d",
   "metadata": {},
   "outputs": [],
   "source": [
    "BATCH_SIZE = 32\n",
    "LSTM_UNITS = 80\n",
    "KEEP_PROB = 0.8\n",
    "INPUT_SHAPE = UPPER_LIMIT\n",
    "OUTPUT_SHAPE = 1"
   ]
  },
  {
   "cell_type": "code",
   "execution_count": null,
   "id": "191173e5-f40b-405f-8d8b-85f3d4d0b5ab",
   "metadata": {},
   "outputs": [],
   "source": [
    "# model = build_model(\n",
    "#     lstm_units = LSTM_UNITS,\n",
    "#     keep_prob  = KEEP_PROB,\n",
    "#     input_shape = INPUT_SHAPE,\n",
    "#     output_shape = OUTPUT_SHAPE,\n",
    "#     word_to_vec_map = word_to_vec_map,\n",
    "#     word_to_idx = word_to_idx\n",
    "# )\n",
    "\n",
    "# loss = 'categorical_crossentropy' if OUTPUT_SHAPE > 1 else 'binary_crossentropy'\n",
    "# model.compile(\n",
    "#     loss = loss,\n",
    "#     optimizer = tf.keras.optimizers.Adam(learning_rate = 5e-3, clipnorm = 1.0),\n",
    "#     metrics = ['accuracy']\n",
    "# )"
   ]
  },
  {
   "cell_type": "code",
   "execution_count": null,
   "id": "ce9df77e",
   "metadata": {},
   "outputs": [],
   "source": [
    "# batch_train_gen = batch_train_generator(list(X_train), list(Y_train), word_to_idx, batch_size=BATCH_SIZE)\n",
    "# batch_val_gen = batch_val_generator(list(X_val), list(Y_val), word_to_idx, batch_size=BATCH_SIZE)"
   ]
  },
  {
   "cell_type": "code",
   "execution_count": null,
   "id": "6cdb601e-95b2-437f-b4c8-554bd5a628fc",
   "metadata": {
    "scrolled": true
   },
   "outputs": [
    {
     "name": "stdout",
     "output_type": "stream",
     "text": [
      "Epoch 1/10\n",
      "\u001b[1m1222/1222\u001b[0m \u001b[32m━━━━━━━━━━━━━━━━━━━━\u001b[0m\u001b[37m\u001b[0m \u001b[1m170s\u001b[0m 138ms/step - accuracy: 0.5127 - loss: 0.6943 - val_accuracy: 0.4688 - val_loss: 0.6922\n",
      "Epoch 2/10\n",
      "\u001b[1m1222/1222\u001b[0m \u001b[32m━━━━━━━━━━━━━━━━━━━━\u001b[0m\u001b[37m\u001b[0m \u001b[1m168s\u001b[0m 138ms/step - accuracy: 0.6417 - loss: 0.5874 - val_accuracy: 0.9688 - val_loss: 0.1643\n",
      "Epoch 3/10\n",
      "\u001b[1m1222/1222\u001b[0m \u001b[32m━━━━━━━━━━━━━━━━━━━━\u001b[0m\u001b[37m\u001b[0m \u001b[1m170s\u001b[0m 139ms/step - accuracy: 0.8935 - loss: 0.2666 - val_accuracy: 0.9375 - val_loss: 0.1218\n",
      "Epoch 4/10\n",
      "\u001b[1m1222/1222\u001b[0m \u001b[32m━━━━━━━━━━━━━━━━━━━━\u001b[0m\u001b[37m\u001b[0m \u001b[1m172s\u001b[0m 141ms/step - accuracy: 0.9350 - loss: 0.1839 - val_accuracy: 0.8750 - val_loss: 0.1434\n",
      "Epoch 5/10\n",
      "\u001b[1m1222/1222\u001b[0m \u001b[32m━━━━━━━━━━━━━━━━━━━━\u001b[0m\u001b[37m\u001b[0m \u001b[1m171s\u001b[0m 140ms/step - accuracy: 0.9620 - loss: 0.1204 - val_accuracy: 0.8750 - val_loss: 0.2383\n",
      "Epoch 6/10\n",
      "\u001b[1m1222/1222\u001b[0m \u001b[32m━━━━━━━━━━━━━━━━━━━━\u001b[0m\u001b[37m\u001b[0m \u001b[1m168s\u001b[0m 138ms/step - accuracy: 0.9770 - loss: 0.0795 - val_accuracy: 0.9688 - val_loss: 0.1598\n",
      "Epoch 7/10\n",
      "\u001b[1m1222/1222\u001b[0m \u001b[32m━━━━━━━━━━━━━━━━━━━━\u001b[0m\u001b[37m\u001b[0m \u001b[1m166s\u001b[0m 136ms/step - accuracy: 0.9817 - loss: 0.0628 - val_accuracy: 0.9688 - val_loss: 0.2239\n",
      "Epoch 8/10\n",
      "\u001b[1m1222/1222\u001b[0m \u001b[32m━━━━━━━━━━━━━━━━━━━━\u001b[0m\u001b[37m\u001b[0m \u001b[1m167s\u001b[0m 136ms/step - accuracy: 0.9885 - loss: 0.0444 - val_accuracy: 0.9375 - val_loss: 0.2545\n",
      "Epoch 9/10\n",
      "\u001b[1m1222/1222\u001b[0m \u001b[32m━━━━━━━━━━━━━━━━━━━━\u001b[0m\u001b[37m\u001b[0m \u001b[1m168s\u001b[0m 138ms/step - accuracy: 0.9907 - loss: 0.0358 - val_accuracy: 0.9375 - val_loss: 0.2579\n",
      "Epoch 10/10\n",
      "\u001b[1m1222/1222\u001b[0m \u001b[32m━━━━━━━━━━━━━━━━━━━━\u001b[0m\u001b[37m\u001b[0m \u001b[1m167s\u001b[0m 137ms/step - accuracy: 0.9924 - loss: 0.0289 - val_accuracy: 0.9375 - val_loss: 0.2697\n",
      "CPU times: total: 1h 55min 49s\n",
      "Wall time: 28min 7s\n"
     ]
    },
    {
     "data": {
      "text/plain": [
       "<keras.src.callbacks.history.History at 0x1d7f2c80a00>"
      ]
     },
     "execution_count": 256,
     "metadata": {},
     "output_type": "execute_result"
    }
   ],
   "source": [
    "# %%time\n",
    "\n",
    "\n",
    "\n",
    "# model.fit(\n",
    "#     batch_train_gen,\n",
    "#     steps_per_epoch = len(X_train) // BATCH_SIZE,\n",
    "#     validation_data = batch_val_gen,\n",
    "#     validation_steps = len(X_val) // BATCH_SIZE,\n",
    "#     epochs = 10\n",
    "# )\n"
   ]
  },
  {
   "cell_type": "code",
   "execution_count": null,
   "id": "31970262-1b6d-4934-8082-894e27bb68b3",
   "metadata": {},
   "outputs": [],
   "source": [
    "# Saving the model\n",
    "# model.save('sentiment_analysis_model_v1.keras')"
   ]
  },
  {
   "cell_type": "code",
   "execution_count": 55,
   "id": "2b7b20a7",
   "metadata": {},
   "outputs": [],
   "source": [
    "# Evaluate the model performance on test set\n",
    "X_test_indices = sentences_to_indices(list(X_test), word_to_idx)\n",
    "Y_test = np.array(list(Y_test)).reshape(-1, 1)\n",
    "# model.evaluate(\n",
    "#     X_test_indices,\n",
    "#     Y_test\n",
    "# )"
   ]
  },
  {
   "cell_type": "markdown",
   "id": "49d12c2d",
   "metadata": {},
   "source": [
    "### Try to reduce overfitting\n"
   ]
  },
  {
   "cell_type": "code",
   "execution_count": null,
   "id": "a7aeb875",
   "metadata": {},
   "outputs": [
    {
     "name": "stdout",
     "output_type": "stream",
     "text": [
      "Epoch 1/10\n",
      "\u001b[1m1222/1222\u001b[0m \u001b[32m━━━━━━━━━━━━━━━━━━━━\u001b[0m\u001b[37m\u001b[0m \u001b[1m144s\u001b[0m 116ms/step - accuracy: 0.5229 - loss: 0.6876 - val_accuracy: 0.8750 - val_loss: 0.3478\n",
      "Epoch 2/10\n",
      "\u001b[1m1222/1222\u001b[0m \u001b[32m━━━━━━━━━━━━━━━━━━━━\u001b[0m\u001b[37m\u001b[0m \u001b[1m134s\u001b[0m 110ms/step - accuracy: 0.8524 - loss: 0.3743 - val_accuracy: 0.9375 - val_loss: 0.1898\n",
      "Epoch 3/10\n",
      "\u001b[1m1222/1222\u001b[0m \u001b[32m━━━━━━━━━━━━━━━━━━━━\u001b[0m\u001b[37m\u001b[0m \u001b[1m153s\u001b[0m 125ms/step - accuracy: 0.9101 - loss: 0.2502 - val_accuracy: 0.9375 - val_loss: 0.1720\n",
      "Epoch 4/10\n",
      "\u001b[1m1222/1222\u001b[0m \u001b[32m━━━━━━━━━━━━━━━━━━━━\u001b[0m\u001b[37m\u001b[0m \u001b[1m164s\u001b[0m 134ms/step - accuracy: 0.9479 - loss: 0.1588 - val_accuracy: 0.8438 - val_loss: 0.4100\n",
      "Epoch 5/10\n",
      "\u001b[1m1222/1222\u001b[0m \u001b[32m━━━━━━━━━━━━━━━━━━━━\u001b[0m\u001b[37m\u001b[0m \u001b[1m144s\u001b[0m 118ms/step - accuracy: 0.9715 - loss: 0.1001 - val_accuracy: 0.8750 - val_loss: 0.4323\n",
      "Epoch 6/10\n",
      "\u001b[1m1222/1222\u001b[0m \u001b[32m━━━━━━━━━━━━━━━━━━━━\u001b[0m\u001b[37m\u001b[0m \u001b[1m135s\u001b[0m 110ms/step - accuracy: 0.9819 - loss: 0.0695 - val_accuracy: 0.8750 - val_loss: 0.4168\n",
      "CPU times: total: 56min 24s\n",
      "Wall time: 14min 33s\n"
     ]
    }
   ],
   "source": [
    "%%time\n",
    "\n",
    "loss = 'categorical_crossentropy' if OUTPUT_SHAPE > 1 else 'binary_crossentropy'\n",
    "\n",
    "model_v2 = build_model(80, 0.7, INPUT_SHAPE, OUTPUT_SHAPE, word_to_vec_map, word_to_idx)\n",
    "model_v2.layers[-1].kernel_regulaizer = tf.keras.regularizers.l2(1e-4)\n",
    "\n",
    "\n",
    "model_v2.compile(\n",
    "    optimizer = tf.keras.optimizers.Adam(learning_rate = 3e-3),  # learning rate منخفض\n",
    "    loss = loss,\n",
    "    metrics = ['accuracy']\n",
    ")\n",
    "\n",
    "early_stopping_cb = tf.keras.callbacks.EarlyStopping(\n",
    "    monitor = \"val_loss\",\n",
    "    patience = 3,\n",
    "    restore_best_weights = True\n",
    ")\n",
    "\n",
    "\n",
    "# batch_train_gen = batch_train_generator(list(X_train), list(Y_train), word_to_idx, batch_size=BATCH_SIZE)\n",
    "# batch_val_gen = batch_val_generator(list(X_val), list(Y_val), word_to_idx, batch_size=BATCH_SIZE)\n",
    "\n",
    "# history = model_v2.fit(\n",
    "#     batch_train_gen,\n",
    "#     steps_per_epoch = len(X_train) // BATCH_SIZE,\n",
    "#     validation_data = batch_val_gen,\n",
    "#     validation_steps = len(X_val) // BATCH_SIZE,\n",
    "#     epochs=10,       \n",
    "#     callbacks=[early_stopping_cb]\n",
    "# )"
   ]
  },
  {
   "cell_type": "code",
   "execution_count": null,
   "id": "f3fe0494",
   "metadata": {},
   "outputs": [
    {
     "name": "stdout",
     "output_type": "stream",
     "text": [
      "\u001b[1m153/153\u001b[0m \u001b[32m━━━━━━━━━━━━━━━━━━━━\u001b[0m\u001b[37m\u001b[0m \u001b[1m6s\u001b[0m 35ms/step - accuracy: 0.8799 - loss: 0.3237\n"
     ]
    },
    {
     "data": {
      "text/plain": [
       "[0.3043332099914551, 0.8865030407905579]"
      ]
     },
     "execution_count": 84,
     "metadata": {},
     "output_type": "execute_result"
    }
   ],
   "source": [
    "# model_v2.evaluate(\n",
    "#     X_test_indices,\n",
    "#     Y_test\n",
    "# )"
   ]
  },
  {
   "cell_type": "code",
   "execution_count": null,
   "id": "c952f782",
   "metadata": {},
   "outputs": [],
   "source": [
    "# model_v2.save(\"models/sentiment_analysis_model_v2.keras\")"
   ]
  },
  {
   "cell_type": "markdown",
   "id": "200ec302",
   "metadata": {},
   "source": [
    "### Comparing between the two Models"
   ]
  },
  {
   "cell_type": "code",
   "execution_count": 53,
   "id": "e0628aaf",
   "metadata": {},
   "outputs": [],
   "source": [
    "model_v1 = tf.keras.models.load_model(\"models/sentiment_analysis_model_v1.keras\")\n",
    "model_v2 = tf.keras.models.load_model(\"models/sentiment_analysis_model_v2.keras\")"
   ]
  },
  {
   "cell_type": "code",
   "execution_count": 56,
   "id": "6b8201f2",
   "metadata": {},
   "outputs": [
    {
     "name": "stdout",
     "output_type": "stream",
     "text": [
      "\u001b[1m153/153\u001b[0m \u001b[32m━━━━━━━━━━━━━━━━━━━━\u001b[0m\u001b[37m\u001b[0m \u001b[1m6s\u001b[0m 35ms/step\n",
      "\u001b[1m153/153\u001b[0m \u001b[32m━━━━━━━━━━━━━━━━━━━━\u001b[0m\u001b[37m\u001b[0m \u001b[1m6s\u001b[0m 39ms/step\n"
     ]
    }
   ],
   "source": [
    "# Prediction\n",
    "model_v1_preds = model_v1.predict(X_test_indices)\n",
    "model_v2_preds = model_v2.predict(X_test_indices)"
   ]
  },
  {
   "cell_type": "code",
   "execution_count": 57,
   "id": "6135aaa3",
   "metadata": {},
   "outputs": [],
   "source": [
    "model_v1_classes = model_v1_preds >= 0.5\n",
    "model_v2_classes = model_v2_preds >= 0.5\n"
   ]
  },
  {
   "cell_type": "code",
   "execution_count": 59,
   "id": "9a72cbc1",
   "metadata": {},
   "outputs": [
    {
     "name": "stdout",
     "output_type": "stream",
     "text": [
      "For Model#1\n",
      "Acc: 0.8783\n",
      "Precision: 0.8677\n",
      "Recall: 0.8855\n",
      "F1: 0.8765\n",
      "----------------------------------------------------------------------------------------------------\n",
      "For Model#2\n",
      "Acc: 0.8865\n",
      "Precision: 0.9078\n",
      "Recall: 0.8541\n",
      "F1: 0.8801\n"
     ]
    }
   ],
   "source": [
    "print(f'For Model#1')\n",
    "print(f'Acc: {round(accuracy_score(Y_test, model_v1_classes), 4)}')\n",
    "print(f'Precision: {round(precision_score(Y_test, model_v1_classes), 4)}')\n",
    "print(f'Recall: {round(recall_score(Y_test, model_v1_classes), 4)}')\n",
    "print(f'F1: {round(f1_score(Y_test, model_v1_classes), 4)}')\n",
    "print(100 * '-')\n",
    "print(f'For Model#2')\n",
    "print(f'Acc: {round(accuracy_score(Y_test, model_v2_classes), 4)}')\n",
    "print(f'Precision: {round(precision_score(Y_test, model_v2_classes), 4)}')\n",
    "print(f'Recall: {round(recall_score(Y_test, model_v2_classes), 4)}')\n",
    "print(f'F1: {round(f1_score(Y_test, model_v2_classes), 4)}')"
   ]
  },
  {
   "cell_type": "code",
   "execution_count": 60,
   "id": "40710bb4",
   "metadata": {},
   "outputs": [
    {
     "data": {
      "image/png": "[encoded data removed]",
      "text/plain": [
       "<Figure size 640x480 with 2 Axes>"
      ]
     },
     "metadata": {},
     "output_type": "display_data"
    }
   ],
   "source": [
    "cm = confusion_matrix(Y_test, model_v1_classes)\n",
    "cm_disp = ConfusionMatrixDisplay(cm, display_labels = ['negative', 'positive'])\n",
    "cm_disp.plot()\n",
    "plt.title(\"Model#1 Confusion Matrix\")\n",
    "plt.show()"
   ]
  },
  {
   "cell_type": "code",
   "execution_count": 61,
   "id": "06004c52",
   "metadata": {},
   "outputs": [
    {
     "data": {
      "image/png": "[encoded data removed]",
      "text/plain": [
       "<Figure size 640x480 with 2 Axes>"
      ]
     },
     "metadata": {},
     "output_type": "display_data"
    }
   ],
   "source": [
    "cm = confusion_matrix(Y_test, model_v2_classes)\n",
    "cm_disp = ConfusionMatrixDisplay(cm, display_labels = ['negative', 'positive'])\n",
    "cm_disp.plot()\n",
    "plt.title(\"Model#2 Confusion Matrix\")\n",
    "plt.show()"
   ]
  },
  {
   "cell_type": "markdown",
   "id": "cd735847",
   "metadata": {},
   "source": [
    "- Both models exhibit slight overfitting, but Model 2 demonstrates slightly better generalization."
   ]
  },
  {
   "cell_type": "code",
   "execution_count": null,
   "id": "b9343f81",
   "metadata": {},
   "outputs": [],
   "source": [
    "# saving the word_to_idx dict\n",
    "with open('data/word_to_idx.pkl', 'wb') as f:\n",
    "    pickle.dump(word_to_idx, f)"
   ]
  },
  {
   "cell_type": "markdown",
   "id": "e0a4413d",
   "metadata": {},
   "source": [
    "---\n",
    "---"
   ]
  },
  {
   "cell_type": "markdown",
   "id": "ea1ea348",
   "metadata": {},
   "source": [
    "<b><i>ALHAMDULILLAH</i></b>"
   ]
  }
 ],
 "metadata": {
  "kernelspec": {
   "display_name": "Python 3",
   "language": "python",
   "name": "python3"
  },
  "language_info": {
   "codemirror_mode": {
    "name": "ipython",
    "version": 3
   },
   "file_extension": ".py",
   "mimetype": "text/x-python",
   "name": "python",
   "nbconvert_exporter": "python",
   "pygments_lexer": "ipython3",
   "version": "3.10.0"
  }
 },
 "nbformat": 4,
 "nbformat_minor": 5
}
